{
 "cells": [
  {
   "cell_type": "markdown",
   "metadata": {},
   "source": [
    "# Creating labels for training/testing toxicity detector classifier models.\n",
    "\n",
    "### John Burt\n",
    "\n",
    "\n",
    "### Introduction:\n",
    "\n",
    "This notebook reads the comment data and creates integer training label variables for training models. \n",
    "\n"
   ]
  },
  {
   "cell_type": "code",
   "execution_count": 22,
   "metadata": {},
   "outputs": [
    {
     "name": "stdout",
     "output_type": "stream",
     "text": [
      "\n",
      "Total comment samples read: 3251323\n"
     ]
    }
   ],
   "source": [
    "# remove warnings\n",
    "import warnings\n",
    "warnings.filterwarnings('ignore')\n",
    "# ---\n",
    "\n",
    "%matplotlib inline\n",
    "from matplotlib import pyplot as plt\n",
    "import matplotlib\n",
    "matplotlib.style.use('ggplot')\n",
    "\n",
    "import pandas as pd\n",
    "pd.options.display.max_columns = 100\n",
    "\n",
    "import numpy as np\n",
    "import datetime\n",
    "import time\n",
    "import csv\n",
    "import glob\n",
    "\n",
    "\n",
    "# source data folder \n",
    "srcdir = './data_labeled/'\n",
    "\n",
    "# the subreddits I'll be analyzing\n",
    "sub2use = ['aww', 'funny', 'todayilearned','askreddit',\n",
    "           'photography', 'gaming', 'videos', 'science',\n",
    "           'politics', 'politicaldiscussion',             \n",
    "           'conservative', 'the_Donald']\n",
    "\n",
    "# load all labelled CSVs\n",
    "dfs = []\n",
    "for subname in sub2use:\n",
    "    pathname = srcdir+'comment_sample_'+subname+'_labeled.csv'\n",
    "#     print('reading',pathname)\n",
    "    tdf = pd.read_csv(pathname)\n",
    "    dfs.append(tdf)\n",
    "\n",
    "# combine all subreddit datasets into one  \n",
    "df = pd.concat(dfs).drop_duplicates()\n",
    "\n",
    "# remove any deleted or removed comments \n",
    "df = df[(df.text!='[deleted]') & (df.text!='[removed]')]\n",
    "\n",
    "# drop samples with NaNs\n",
    "df.dropna(inplace=True)\n",
    "\n",
    "# drop duplicates\n",
    "df = df.drop_duplicates(subset='comment_ID')\n",
    "\n",
    "# reformat parent ids to match comment ids\n",
    "df.parent_ID = df.parent_ID.str.replace('t1_','')\n",
    "df.parent_ID = df.parent_ID.str.replace('t3_','')\n",
    "\n",
    "print('\\nTotal comment samples read:',df.shape[0])"
   ]
  },
  {
   "cell_type": "markdown",
   "metadata": {},
   "source": [
    "## Create training labels\n",
    "\n",
    "Using the PCA score data generated earlier, I'll create three different training label schemes:\n",
    "\n",
    "- five integer levels ranging from -2 to +2. This preserves the range of scores, from high positive to low negative scores.\n",
    "\n",
    "- five integer levels ranging from 0-4, inverted so that higher values indicate more toxicity. Any sample with PCA score >= 0 will be labelled 0.\n",
    "\n",
    "- 0/1 binary value, with 1 = toxic, and 0 = non-toxic. To determine the threshold."
   ]
  },
  {
   "cell_type": "code",
   "execution_count": 27,
   "metadata": {},
   "outputs": [
    {
     "name": "stdout",
     "output_type": "stream",
     "text": [
      "# > 0 (low toxicity) = 402908 # <= 0 (higher toxicity) = 2848415\n"
     ]
    },
    {
     "data": {
      "image/png": "[encoded data removed]",
      "text/plain": [
       "<Figure size 432x288 with 1 Axes>"
      ]
     },
     "metadata": {},
     "output_type": "display_data"
    }
   ],
   "source": [
    "# five integer levels ranging from -2 to +2.\n",
    "df['label_neg-pos'] = (df['pca_score'] / 2).round()\n",
    "df['label_neg-pos'].hist(bins=5);\n",
    "\n",
    "plt.title('2- to 2 label range (negative numbers = toxic)');\n",
    "\n",
    "print('# > 0 (low toxicity) =',(df['label_neg-pos']>0).sum(),\n",
    "      '# <= 0 (higher toxicity) =',(df['label_neg-pos']<=0).sum())"
   ]
  },
  {
   "cell_type": "code",
   "execution_count": 28,
   "metadata": {},
   "outputs": [
    {
     "name": "stdout",
     "output_type": "stream",
     "text": [
      "# = 0 (low toxicity) = 2209704 # > 0 (higher toxicity) = 1041619\n"
     ]
    },
    {
     "data": {
      "image/png": "[encoded data removed]",
      "text/plain": [
       "<Figure size 432x288 with 1 Axes>"
      ]
     },
     "metadata": {},
     "output_type": "display_data"
    }
   ],
   "source": [
    "# five integer levels ranging from 0-4, inverted so that higher values indicate more toxicity. \n",
    "#  Any sample with PCA score >= 0 will be labelled 0.\n",
    "df['label_neg-inv'] = -(df['pca_score']).round()\n",
    "df['label_neg-inv'][df['label_neg-inv']<0] = 0\n",
    "df['label_neg-inv'].hist(bins=5);\n",
    "plt.title('0 to 4 label range (positive numbers = more toxic)');\n",
    "\n",
    "print('# = 0 (low toxicity) =',(df['label_neg-inv']==0).sum(),\n",
    "      '# > 0 (higher toxicity) =',(df['label_neg-inv']>0).sum())"
   ]
  },
  {
   "cell_type": "code",
   "execution_count": 30,
   "metadata": {},
   "outputs": [
    {
     "name": "stdout",
     "output_type": "stream",
     "text": [
      "#above thresh (low toxicity) = 3212854 #below thresh (higher toxicity) = 38469\n"
     ]
    }
   ],
   "source": [
    "# 0/1 binary value, with 1 = toxic, and 0 = non-toxic. To determine the threshold.\n",
    "\n",
    "threshold = -2\n",
    "\n",
    "df['label_bin'] = (df['pca_score'] < threshold).astype(int)\n",
    "\n",
    "print('#above thresh (low toxicity) =',(df['label_bin']==0).sum(),\n",
    "      '#below thresh (higher toxicity) =',(df['label_bin']==1).sum())"
   ]
  },
  {
   "cell_type": "code",
   "execution_count": 26,
   "metadata": {},
   "outputs": [
    {
     "name": "stdout",
     "output_type": "stream",
     "text": [
      "saved reply data to ./data_labeled/comment_sample_traintest_data.csv\n"
     ]
    }
   ],
   "source": [
    "outpath = srcdir+'comment_sample_traintest_data.csv'\n",
    "df.to_csv(outpath,index=False)\n",
    "print('saved reply data to',outpath)"
   ]
  }
 ],
 "metadata": {
  "kernelspec": {
   "display_name": "Python 3",
   "language": "python",
   "name": "python3"
  },
  "language_info": {
   "codemirror_mode": {
    "name": "ipython",
    "version": 3
   },
   "file_extension": ".py",
   "mimetype": "text/x-python",
   "name": "python",
   "nbconvert_exporter": "python",
   "pygments_lexer": "ipython3",
   "version": "3.5.6"
  }
 },
 "nbformat": 4,
 "nbformat_minor": 2
}
