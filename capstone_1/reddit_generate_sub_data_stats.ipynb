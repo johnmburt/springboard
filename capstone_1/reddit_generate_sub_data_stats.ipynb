{
 "cells": [
  {
   "cell_type": "markdown",
   "metadata": {},
   "source": [
    "This notebook generates stats about the subs, formatted for markdown table"
   ]
  },
  {
   "cell_type": "code",
   "execution_count": 5,
   "metadata": {},
   "outputs": [
    {
     "name": "stdout",
     "output_type": "stream",
     "text": [
      "| sub name | # samples | # not troll | # troll |\n",
      "| -- | -- | -- | -- |\n",
      "| aww | 217357 | 207315 | 10042 (4.6%) |\n",
      "| funny | 255418 | 246812 | 8606 (3.4%) |\n",
      "| todayilearned | 254686 | 237171 | 17515 (6.9%) |\n",
      "| askreddit | 198972 | 194922 | 4050 (2.0%) |\n",
      "| photography | 143707 | 137644 | 6063 (4.2%) |\n",
      "| gaming | 389944 | 378513 | 11431 (2.9%) |\n",
      "| videos | 413753 | 397537 | 16216 (3.9%) |\n",
      "| science | 152385 | 147346 | 5039 (3.3%) |\n",
      "| politics | 361384 | 340759 | 20625 (5.7%) |\n",
      "| politicaldiscussion | 350382 | 306212 | 44170 (12.6%) |\n",
      "| conservative | 124300 | 108493 | 15807 (12.7%) |\n",
      "| the_Donald | 389035 | 354221 | 34814 (8.9%) |\n"
     ]
    }
   ],
   "source": [
    "# remove warnings\n",
    "import warnings\n",
    "warnings.filterwarnings('ignore')\n",
    "# ---\n",
    "\n",
    "%matplotlib inline\n",
    "from matplotlib import pyplot as plt\n",
    "import matplotlib\n",
    "matplotlib.style.use('ggplot')\n",
    "\n",
    "import pandas as pd\n",
    "pd.options.display.max_columns = 100\n",
    "\n",
    "import numpy as np\n",
    "import datetime\n",
    "import time\n",
    "\n",
    "def print_feature_data(sub,srcdir):\n",
    "    \n",
    "    # load all data csvs for listed subs into dataframes \n",
    "    df = pd.read_csv(srcdir+'features_text_'+sub+'.csv')\n",
    "        \n",
    "    # apply a threshold to determine toxic vs not toxic\n",
    "    thresh = -1\n",
    "    \n",
    "    tox_score = np.where(df['pca_score']>thresh,0,1)\n",
    "    \n",
    "    print('| %s | %d | %d | %d (%1.1f%%) |'%(\n",
    "        subname, df.shape[0], tox_score[tox_score==0].shape[0], \n",
    "        tox_score[tox_score==1].shape[0],\n",
    "        100*tox_score[tox_score==1].shape[0]/tox_score.shape[0]))\n",
    "    \n",
    "\n",
    "\n",
    "# source data folder \n",
    "srcdir = './data_for_models/'\n",
    "\n",
    "# subs to use for this analysis\n",
    "sub2use = ['aww', 'funny', 'todayilearned','askreddit',\n",
    "           'photography', 'gaming', 'videos', 'science',\n",
    "           'politics', 'politicaldiscussion',             \n",
    "           'conservative', 'the_Donald']\n",
    "\n",
    "print('| sub name | # samples | # not troll | # troll |')\n",
    "print('| -- | -- | -- | -- |')\n",
    "for subname in sub2use:\n",
    "    print_feature_data(subname, srcdir)\n",
    "    "
   ]
  },
  {
   "cell_type": "code",
   "execution_count": null,
   "metadata": {},
   "outputs": [],
   "source": []
  }
 ],
 "metadata": {
  "kernelspec": {
   "display_name": "Python 3",
   "language": "python",
   "name": "python3"
  },
  "language_info": {
   "codemirror_mode": {
    "name": "ipython",
    "version": 3
   },
   "file_extension": ".py",
   "mimetype": "text/x-python",
   "name": "python",
   "nbconvert_exporter": "python",
   "pygments_lexer": "ipython3",
   "version": "3.6.7"
  }
 },
 "nbformat": 4,
 "nbformat_minor": 2
}
