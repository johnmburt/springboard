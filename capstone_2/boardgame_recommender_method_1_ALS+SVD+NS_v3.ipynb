{
 "cells": [
  {
   "cell_type": "markdown",
   "metadata": {
    "slideshow": {
     "slide_type": "slide"
    }
   },
   "source": [
    "## Board game recommendation engine for new users\n",
    "### Matrix factorization with ALS\n",
    "### Method 1: search for similar games\n",
    "\n",
    "#### John Burt\n",
    "\n",
    "\n",
    "### Purpose of this notebook:\n",
    "\n",
    "Implement a board game recommender using a game rating dataset from the boardgamegeek.com website. The recommender scenerio is that a new user (not in the dataset) is seeking recommendations for board games they haven't tried before. They are asked to enter any number of games they like and games they don't like.\n",
    "\n",
    "Note: This method only works for the case where only one example of a liked game is given.\n",
    "\n",
    "#### The method:\n",
    "\n",
    "- Load data into a pandas dataframe from provided csv files.\n",
    "\n",
    "- Run the filled matrix through Singlar Value Decomposition (SVD) to generate N feature dimensions that describe each game. The result is a set of N dimensional coordinates for each game.\n",
    "\n",
    "- The recommender takes a user specified game title and uses the SVD game coordinates to select the games that are nearest neighbors as recommendations.\n",
    "\n",
    "- This process is repeated with several games the user likes, then the most popular recommendations are chosen for the final recommendation.\n",
    "\n",
    "- The model also searches for recommended games from a list of disliked games. Any game recommended from disliked is excluded from the final recommendations.\n"
   ]
  },
  {
   "cell_type": "markdown",
   "metadata": {
    "slideshow": {
     "slide_type": "slide"
    }
   },
   "source": [
    "## load data from csv file\n",
    "\n",
    "- Set up plot environment.\n",
    "- boardgame rating data from csv into pandas dataframe\n"
   ]
  },
  {
   "cell_type": "code",
   "execution_count": 1,
   "metadata": {
    "slideshow": {
     "slide_type": "subslide"
    }
   },
   "outputs": [
    {
     "name": "stdout",
     "output_type": "stream",
     "text": [
      "#games X #users: (402, 108396)\n",
      "number of titles = 402\n"
     ]
    }
   ],
   "source": [
    "# remove warnings\n",
    "import warnings\n",
    "warnings.filterwarnings('ignore')\n",
    "# ---\n",
    "\n",
    "%matplotlib inline\n",
    "import pandas as pd\n",
    "pd.options.display.max_columns = 100\n",
    "from matplotlib import pyplot as plt\n",
    "import matplotlib\n",
    "matplotlib.style.use('ggplot')\n",
    "import numpy as np\n",
    "\n",
    "from datetime import datetime\n",
    "\n",
    "pd.options.display.max_rows = 100\n",
    "\n",
    "srcdir = './data/'\n",
    "\n",
    "# load the boardgame by user ratings matrix data\n",
    "# note: the matrix was pre-filled with estimated ratings using \n",
    "#       Alternating Least Squares method in another notebook.\n",
    "df_mxfilled = pd.read_csv(srcdir+'mx_items_filled_minr=10.csv')\n",
    "df_mxfilled = df_mxfilled.reset_index()\n",
    "\n",
    "# load the boardgame title data\n",
    "titledata = pd.read_csv(srcdir+'boardgame-titles.csv')\n",
    "\n",
    "# rename the gameID column\n",
    "titledata=titledata.rename(columns = {\"boardgamegeek.com game ID\":'gameID'})\n",
    "titledata.reset_index(inplace=True)\n",
    "\n",
    "print('#games X #users:', df_mxfilled.shape)\n",
    "print('number of titles =', titledata.shape[0])"
   ]
  },
  {
   "cell_type": "markdown",
   "metadata": {},
   "source": [
    "## Compute the Truncated SVD. \n",
    "\n",
    "This proces will result in a set of feature coordinates for each game, so that games that are \"similar\" are closer. "
   ]
  },
  {
   "cell_type": "code",
   "execution_count": 2,
   "metadata": {},
   "outputs": [
    {
     "name": "stdout",
     "output_type": "stream",
     "text": [
      "coords: #games X #features: (402, 5)\n"
     ]
    }
   ],
   "source": [
    "from sklearn.decomposition import PCA, SparsePCA, KernelPCA, TruncatedSVD, NMF\n",
    "\n",
    "# number of dimensions for analysis\n",
    "numdims = 5\n",
    "\n",
    "# coords = TruncatedSVD(n_components=numdims).fit_transform(df_mxfilled)\n",
    "# select all columns after 'gameID'\n",
    "# coords = TruncatedSVD(n_components=numdims).fit_transform(\n",
    "#     df_mxfilled.iloc[:,np.argwhere(df_mxfilled.columns=='gameID').flatten()[0]+1:])\n",
    "\n",
    "# new method: the PCA uses SVD, but also normalizes each feature\n",
    "coords = PCA(n_components=numdims, whiten=True).fit_transform(\n",
    "    df_mxfilled.iloc[:,np.argwhere(df_mxfilled.columns=='gameID').flatten()[0]+1:])\n",
    "\n",
    "print('coords: #games X #features:',coords.shape)"
   ]
  },
  {
   "cell_type": "markdown",
   "metadata": {},
   "source": [
    "### Functions to search for nearest neighbor games in SVD feature space"
   ]
  },
  {
   "cell_type": "code",
   "execution_count": 3,
   "metadata": {},
   "outputs": [],
   "source": [
    "from scipy.spatial.distance import cdist\n",
    "\n",
    "def find_nearest_neighbors(coords, x, numnearest):\n",
    "    \"\"\"Brute force NN search\"\"\"\n",
    "    \n",
    "    # get euclidean distances of all points to x    \n",
    "    dists = cdist(np.reshape(x,(1,-1)),coords) \n",
    "    \n",
    "    # sort the distances\n",
    "    ind, = np.argsort(dists)\n",
    "\n",
    "    # return the numnearest nearest neighbors\n",
    "    return ind[:numnearest]\n",
    "    \n",
    "def recommend_games_one(targettitle, gametitles, coords, num2rec=1):\n",
    "    \"\"\"Recommend games based on NN to one game title\"\"\"\n",
    "    \n",
    "    # get coords of target title\n",
    "    targetcoord = coords[gametitles==targettitle,:]\n",
    "    \n",
    "    # find nearest neighbors\n",
    "    ind = find_nearest_neighbors(coords, targetcoord, num2rec+1)\n",
    "    \n",
    "    # Note: first entry will be the target title (distance 0)\n",
    "    return ind[1:]\n",
    "\n",
    "def recommend_games_prefs_sets(pref, gametitles, coords, num2rec=1):\n",
    "    \"\"\"Recommend games using multiple liked and disliked games.\n",
    "       This method creates a set of recommended games for each title in prefs and \n",
    "         then uses set functions to select the most commonly preferred,\n",
    "         and then exclude any recs based on disliked games\"\"\"\n",
    "    \n",
    "    recs = []\n",
    "    for title in pref['like']:\n",
    "        recs.extend(recommend_games_one(title, gametitles, coords, num2rec*2))\n",
    "    unique, counts = np.unique(recs, return_counts=True)\n",
    "    recs = (np.array([unique,counts])[0,np.argsort(-counts)].T)\n",
    "    \n",
    "    norecs = []\n",
    "    for title in pref['dislike']:\n",
    "        norecs.extend(recommend_games_one(title, gametitles, coords, num2rec*2))\n",
    "    norecs = list(np.unique(norecs))\n",
    "    \n",
    "    allrecs = []\n",
    "    for r in recs:\n",
    "        if ~any(r == norecs):\n",
    "            allrecs.append(r)\n",
    "            \n",
    "    return allrecs[:num2rec]\n"
   ]
  },
  {
   "cell_type": "markdown",
   "metadata": {},
   "source": [
    "### Test out the recommender algorithm with a list of board games \n",
    "\n",
    "Note: this recommender uses two kinds of input: games liked, and games disliked.\n"
   ]
  },
  {
   "cell_type": "code",
   "execution_count": 4,
   "metadata": {},
   "outputs": [
    {
     "name": "stdout",
     "output_type": "stream",
     "text": [
      "\n",
      "pref: heavy eurogames, If you like Agricola, Caverna: The Cave Farmers, Terraforming Mars, you should try:\n",
      "  Scythe\n",
      "  Terra Mystica\n",
      "  Tichu\n",
      "  Mombasa\n",
      "  The Voyages of Marco Polo\n",
      "\n",
      "\n",
      "pref: light eurogames, If you like Ticket to Ride, Carcassonne, Catan, you should try:\n",
      "  Splendor\n",
      "  Sushi Go!\n",
      "  Carcassonne: Hunters and Gatherers\n",
      "  Telestrations\n",
      "  Ticket to Ride: Nordic Countries\n",
      "\n",
      "\n",
      "pref: thematic, If you like Mice and Mystics, Zombicide, Eldritch Horror, Star Wars: Rebellion, Dead of Winter: A Crossroads Game, you should try:\n",
      "  Star Wars: X-Wing Miniatures Game\n",
      "  Memoir '44\n",
      "  Sentinels of the Multiverse\n",
      "  Descent: Journeys in the Dark (Second Edition)\n",
      "  Elder Sign\n",
      "\n",
      "\n",
      "pref: light/party, If you like Apples to Apples, Love Letter, Codenames, Dixit, One Night Ultimate Werewolf, you should try:\n",
      "  Biblios\n",
      "  Port Royal\n",
      "  The Resistance: Avalon\n",
      "  Dixit Quest\n",
      "  Mysterium\n",
      "\n"
     ]
    }
   ],
   "source": [
    "gameprefs = [\n",
    "    {'type':'heavy eurogames',\n",
    "    'like':['Agricola','Caverna: The Cave Farmers','Terraforming Mars'],\n",
    "    'dislike':['Catan','Apples to Apples','Love Letter','Mice and Mystics','Zombicide']},\n",
    "    \n",
    "    {'type':'light eurogames',\n",
    "    'like':['Ticket to Ride','Carcassonne','Catan'],\n",
    "    'dislike':['Monopoly','Apples to Apples','Love Letter','Zombicide']},\n",
    "    \n",
    "    {'type':'thematic',\n",
    "    'like':['Mice and Mystics','Zombicide', 'Eldritch Horror', 'Star Wars: Rebellion', 'Dead of Winter: A Crossroads Game'],\n",
    "    'dislike':['Terraforming Mars','Agricola','Catan','Apples to Apples','Love Letter']},\n",
    "\n",
    "    {'type':'light/party',\n",
    "    'like':['Apples to Apples','Love Letter','Codenames', 'Dixit', 'One Night Ultimate Werewolf'],\n",
    "    'dislike':['Mice and Mystics','Terraforming Mars','Agricola','Zombicide']},\n",
    "    ]\n",
    "\n",
    "# number of recommended games to present\n",
    "num2recommend = 5\n",
    "\n",
    "# get array indices of user perference titles\n",
    "# title_by_title = titledata.set_index('title')\n",
    "# get game titles from titledata\n",
    "# gametitles = titledata.title[df_mxfilled.index].values\n",
    "titles_by_gameid = titledata.set_index('gameID')\n",
    "gametitles = titles_by_gameid.title.loc[df_mxfilled['gameID']].values\n",
    "\n",
    "# loop through test user game preferences\n",
    "for pref in gameprefs:\n",
    "    recs = recommend_games_prefs_sets(pref, gametitles, coords, num2rec=num2recommend)\n",
    "    print('\\npref: %s, If you like %s, you should try:\\n  %s\\n' % \n",
    "      (pref['type'],', '.join(pref['like']), '\\n  '.join(gametitles[recs])))\n",
    "    "
   ]
  }
 ],
 "metadata": {
  "kernelspec": {
   "display_name": "Python 3",
   "language": "python",
   "name": "python3"
  },
  "language_info": {
   "codemirror_mode": {
    "name": "ipython",
    "version": 3
   },
   "file_extension": ".py",
   "mimetype": "text/x-python",
   "name": "python",
   "nbconvert_exporter": "python",
   "pygments_lexer": "ipython3",
   "version": "3.6.7"
  }
 },
 "nbformat": 4,
 "nbformat_minor": 2
}
