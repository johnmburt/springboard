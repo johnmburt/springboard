{
 "cells": [
  {
   "cell_type": "markdown",
   "metadata": {},
   "source": [
    "## Download board game metadata from boardgamegeek.com\n",
    "\n",
    "### Springboard Capstone 2 project: building a recommendation engine\n",
    "### John Burt\n",
    "\n",
    "\n",
    "#### Procedure:\n",
    "- Load previously downloaded game ID list. All games with > 100 ratings were collected.\n",
    "- Use [BGG API 2 interface](https://boardgamegeek.com/wiki/page/BGG_XML_API2) to collect game metadata.\n",
    "- Save game metadata to a CSV file.\n",
    "\n",
    "Notes:\n",
    "\n",
    "- [BGG API package (not used here) is an alternative.](https://boardgamegeek.com/wiki/page/BGG_XML_API2)\n",
    "    - installation: pip install boardgamegeek2\n",
    "\n",
    "\n",
    "- Code used in this notebook is modified from [Building a boardgamegeek.com Data Set with Scraping and APIs in Python](https://sdsawtelle.github.io/blog/output/boardgamegeek-data-scraping.html)\n"
   ]
  },
  {
   "cell_type": "code",
   "execution_count": 1,
   "metadata": {},
   "outputs": [],
   "source": [
    "import requests\n",
    "from bs4 import BeautifulSoup\n",
    "import pandas as pd\n",
    "import numpy as np\n",
    "import pickle\n",
    "from time import sleep\n",
    "import timeit\n",
    "\n",
    "%matplotlib inline\n",
    "\n",
    "datadir = './data/'"
   ]
  },
  {
   "cell_type": "markdown",
   "metadata": {},
   "source": [
    "### Load previously downloaded game ID data"
   ]
  },
  {
   "cell_type": "code",
   "execution_count": 2,
   "metadata": {},
   "outputs": [
    {
     "name": "stdout",
     "output_type": "stream",
     "text": [
      "(12600, 5)\n"
     ]
    },
    {
     "data": {
      "text/html": [
       "<div>\n",
       "<style scoped>\n",
       "    .dataframe tbody tr th:only-of-type {\n",
       "        vertical-align: middle;\n",
       "    }\n",
       "\n",
       "    .dataframe tbody tr th {\n",
       "        vertical-align: top;\n",
       "    }\n",
       "\n",
       "    .dataframe thead th {\n",
       "        text-align: right;\n",
       "    }\n",
       "</style>\n",
       "<table border=\"1\" class=\"dataframe\">\n",
       "  <thead>\n",
       "    <tr style=\"text-align: right;\">\n",
       "      <th></th>\n",
       "      <th>id</th>\n",
       "      <th>name</th>\n",
       "      <th>nrate</th>\n",
       "      <th>pic_url</th>\n",
       "      <th>nrating_pages</th>\n",
       "    </tr>\n",
       "  </thead>\n",
       "  <tbody>\n",
       "    <tr>\n",
       "      <td>0</td>\n",
       "      <td>13</td>\n",
       "      <td>Catan</td>\n",
       "      <td>87850</td>\n",
       "      <td>https://cf.geekdo-images.com/micro/img/e0y6Bog...</td>\n",
       "      <td>878</td>\n",
       "    </tr>\n",
       "    <tr>\n",
       "      <td>1</td>\n",
       "      <td>822</td>\n",
       "      <td>Carcassonne</td>\n",
       "      <td>87558</td>\n",
       "      <td>https://cf.geekdo-images.com/micro/img/z0tTaij...</td>\n",
       "      <td>875</td>\n",
       "    </tr>\n",
       "    <tr>\n",
       "      <td>2</td>\n",
       "      <td>30549</td>\n",
       "      <td>Pandemic</td>\n",
       "      <td>86396</td>\n",
       "      <td>https://cf.geekdo-images.com/micro/img/0m3-oqB...</td>\n",
       "      <td>863</td>\n",
       "    </tr>\n",
       "    <tr>\n",
       "      <td>3</td>\n",
       "      <td>68448</td>\n",
       "      <td>7 Wonders</td>\n",
       "      <td>71600</td>\n",
       "      <td>https://cf.geekdo-images.com/micro/img/h-Ejv31...</td>\n",
       "      <td>716</td>\n",
       "    </tr>\n",
       "    <tr>\n",
       "      <td>4</td>\n",
       "      <td>36218</td>\n",
       "      <td>Dominion</td>\n",
       "      <td>69929</td>\n",
       "      <td>https://cf.geekdo-images.com/micro/img/VYp2s2f...</td>\n",
       "      <td>699</td>\n",
       "    </tr>\n",
       "  </tbody>\n",
       "</table>\n",
       "</div>"
      ],
      "text/plain": [
       "      id         name  nrate  \\\n",
       "0     13        Catan  87850   \n",
       "1    822  Carcassonne  87558   \n",
       "2  30549     Pandemic  86396   \n",
       "3  68448    7 Wonders  71600   \n",
       "4  36218     Dominion  69929   \n",
       "\n",
       "                                             pic_url  nrating_pages  \n",
       "0  https://cf.geekdo-images.com/micro/img/e0y6Bog...            878  \n",
       "1  https://cf.geekdo-images.com/micro/img/z0tTaij...            875  \n",
       "2  https://cf.geekdo-images.com/micro/img/0m3-oqB...            863  \n",
       "3  https://cf.geekdo-images.com/micro/img/h-Ejv31...            716  \n",
       "4  https://cf.geekdo-images.com/micro/img/VYp2s2f...            699  "
      ]
     },
     "execution_count": 2,
     "metadata": {},
     "output_type": "execute_result"
    }
   ],
   "source": [
    "# load previously downloaded game id data.\n",
    "games = pd.read_csv(datadir+'bgg_gamelist.csv')\n",
    "print(games.shape)\n",
    "games.head()"
   ]
  },
  {
   "cell_type": "markdown",
   "metadata": {},
   "source": [
    "### \"safe\" request function\n",
    "\n",
    "Sometimes a server will spazz out and flub your request or sometimes your connection will blink out in the middle of reading a response, so it's good to wrap requests.get() in something a little more fault tolerant:"
   ]
  },
  {
   "cell_type": "code",
   "execution_count": 3,
   "metadata": {},
   "outputs": [],
   "source": [
    "def request(msg, slp=1):\n",
    "    '''A wrapper to make robust https requests.'''\n",
    "    status_code = 500  # Want to get a status-code of 200\n",
    "    while status_code != 200:\n",
    "        sleep(slp)  # Don't ping the server too often\n",
    "        try:\n",
    "            r = requests.get(msg)\n",
    "            status_code = r.status_code\n",
    "            if status_code != 200:\n",
    "                print(\"Server Error! Response Code %i. Retrying...\" % (r.status_code))\n",
    "        except:\n",
    "            print(\"An exception has occurred, probably a momentory loss of connection. Waiting one seconds...\")\n",
    "            sleep(1)\n",
    "    return r"
   ]
  },
  {
   "cell_type": "markdown",
   "metadata": {},
   "source": [
    "### Collect game information. \n",
    "\n",
    "- Read in blocks of 100"
   ]
  },
  {
   "cell_type": "code",
   "execution_count": 6,
   "metadata": {},
   "outputs": [
    {
     "name": "stdout",
     "output_type": "stream",
     "text": [
      "0,1,2,3,4,5,6,7,8,9,10,11,12,13,14,15,16,17,18,19,20,21,22,23,24,25,26,27,28,29,30,31,32,33,34,35,36,37,38,39,40,41,42,43,44,45,46,47,48,49,50,51,52,53,54,55,56,57,58,59,60,61,62,63,64,65,66,67,68,69,70,71,72,73,74,75,76,77,78,79,80,81,82,83,84,85,86,87,88,89,90,91,92,93,94,95,96,97,98,99,100,101,102,103,104,105,106,107,108,109,110,111,112,113,114,115,116,117,118,119,120,121,122,123,124,125,\n",
      " done\n"
     ]
    }
   ],
   "source": [
    "minplayers = []\n",
    "maxplayers = []\n",
    "minage = []\n",
    "mean_rating = []\n",
    "weight = []\n",
    "categories = []\n",
    "mechanics = []\n",
    "\n",
    "blocksize = 100\n",
    "\n",
    "for i in range(0,games.shape[0],blocksize):\n",
    "    gids = ','.join([str(id) for id in games['id'].iloc[i:i+blocksize].values])\n",
    "    r = request(\"http://www.boardgamegeek.com/xmlapi2/thing?id=\"+gids+\"&stats=1\")\n",
    "    soup = BeautifulSoup(r.text, \"xml\")\n",
    "    \n",
    "    for item in soup('item'):\n",
    "        \n",
    "        minplayers.append(int(item(\"minplayers\")[0]['value']))\n",
    "        maxplayers.append(int(item(\"maxplayers\")[0]['value']))\n",
    "        minage.append(int(item(\"minage\")[0]['value']))\n",
    "        mean_rating.append(float(item(\"average\")[0]['value']))\n",
    "        weight.append(float(item(\"averageweight\")[0]['value']))\n",
    "        \n",
    "        cats = [obj['value'] for obj in item.find_all(type='boardgamecategory')]\n",
    "        categories.append(','.join(cats))\n",
    "        \n",
    "        mechs = [obj['value'] for obj in item.find_all(type='boardgamemechanic')]\n",
    "        mechanics.append(','.join(mechs))\n",
    "        \n",
    "    print(int(i/blocksize),end=',')\n",
    "    \n",
    "    sleep(2) # Keep the BGG server happy.\n",
    "\n",
    "print('\\n done')\n"
   ]
  },
  {
   "cell_type": "markdown",
   "metadata": {},
   "source": [
    "### Load info into a dataframe and save it to CSV"
   ]
  },
  {
   "cell_type": "code",
   "execution_count": 8,
   "metadata": {},
   "outputs": [
    {
     "name": "stdout",
     "output_type": "stream",
     "text": [
      "(12600, 12)\n"
     ]
    },
    {
     "data": {
      "text/html": [
       "<div>\n",
       "<style scoped>\n",
       "    .dataframe tbody tr th:only-of-type {\n",
       "        vertical-align: middle;\n",
       "    }\n",
       "\n",
       "    .dataframe tbody tr th {\n",
       "        vertical-align: top;\n",
       "    }\n",
       "\n",
       "    .dataframe thead th {\n",
       "        text-align: right;\n",
       "    }\n",
       "</style>\n",
       "<table border=\"1\" class=\"dataframe\">\n",
       "  <thead>\n",
       "    <tr style=\"text-align: right;\">\n",
       "      <th></th>\n",
       "      <th>id</th>\n",
       "      <th>name</th>\n",
       "      <th>nrate</th>\n",
       "      <th>pic_url</th>\n",
       "      <th>nrating_pages</th>\n",
       "      <th>minplayers</th>\n",
       "      <th>maxplayers</th>\n",
       "      <th>minage</th>\n",
       "      <th>mean_rating</th>\n",
       "      <th>weight</th>\n",
       "      <th>categories</th>\n",
       "      <th>mechanics</th>\n",
       "    </tr>\n",
       "  </thead>\n",
       "  <tbody>\n",
       "    <tr>\n",
       "      <td>0</td>\n",
       "      <td>13</td>\n",
       "      <td>Catan</td>\n",
       "      <td>87850</td>\n",
       "      <td>https://cf.geekdo-images.com/micro/img/e0y6Bog...</td>\n",
       "      <td>878</td>\n",
       "      <td>3</td>\n",
       "      <td>4</td>\n",
       "      <td>10</td>\n",
       "      <td>7.18061</td>\n",
       "      <td>2.3357</td>\n",
       "      <td>Negotiation</td>\n",
       "      <td>Dice Rolling,Hexagon Grid,Income,Modular Board...</td>\n",
       "    </tr>\n",
       "    <tr>\n",
       "      <td>1</td>\n",
       "      <td>822</td>\n",
       "      <td>Carcassonne</td>\n",
       "      <td>87558</td>\n",
       "      <td>https://cf.geekdo-images.com/micro/img/z0tTaij...</td>\n",
       "      <td>875</td>\n",
       "      <td>2</td>\n",
       "      <td>5</td>\n",
       "      <td>8</td>\n",
       "      <td>7.42375</td>\n",
       "      <td>1.9219</td>\n",
       "      <td>City Building,Medieval,Territory Building</td>\n",
       "      <td>Area Majority / Influence,Tile Placement</td>\n",
       "    </tr>\n",
       "    <tr>\n",
       "      <td>2</td>\n",
       "      <td>30549</td>\n",
       "      <td>Pandemic</td>\n",
       "      <td>86396</td>\n",
       "      <td>https://cf.geekdo-images.com/micro/img/0m3-oqB...</td>\n",
       "      <td>863</td>\n",
       "      <td>2</td>\n",
       "      <td>4</td>\n",
       "      <td>8</td>\n",
       "      <td>7.62865</td>\n",
       "      <td>2.4211</td>\n",
       "      <td>Medical</td>\n",
       "      <td>Action Points,Cooperative Game,Hand Management...</td>\n",
       "    </tr>\n",
       "    <tr>\n",
       "      <td>3</td>\n",
       "      <td>68448</td>\n",
       "      <td>7 Wonders</td>\n",
       "      <td>71600</td>\n",
       "      <td>https://cf.geekdo-images.com/micro/img/h-Ejv31...</td>\n",
       "      <td>716</td>\n",
       "      <td>2</td>\n",
       "      <td>7</td>\n",
       "      <td>10</td>\n",
       "      <td>7.77245</td>\n",
       "      <td>2.3389</td>\n",
       "      <td>Ancient,Card Game,City Building,Civilization</td>\n",
       "      <td>Card Drafting,Drafting,Hand Management,Set Col...</td>\n",
       "    </tr>\n",
       "    <tr>\n",
       "      <td>4</td>\n",
       "      <td>36218</td>\n",
       "      <td>Dominion</td>\n",
       "      <td>69929</td>\n",
       "      <td>https://cf.geekdo-images.com/micro/img/VYp2s2f...</td>\n",
       "      <td>699</td>\n",
       "      <td>2</td>\n",
       "      <td>4</td>\n",
       "      <td>13</td>\n",
       "      <td>7.63822</td>\n",
       "      <td>2.3616</td>\n",
       "      <td>Card Game,Medieval</td>\n",
       "      <td>Deck, Bag, and Pool Building,Hand Management,V...</td>\n",
       "    </tr>\n",
       "  </tbody>\n",
       "</table>\n",
       "</div>"
      ],
      "text/plain": [
       "      id         name  nrate  \\\n",
       "0     13        Catan  87850   \n",
       "1    822  Carcassonne  87558   \n",
       "2  30549     Pandemic  86396   \n",
       "3  68448    7 Wonders  71600   \n",
       "4  36218     Dominion  69929   \n",
       "\n",
       "                                             pic_url  nrating_pages  \\\n",
       "0  https://cf.geekdo-images.com/micro/img/e0y6Bog...            878   \n",
       "1  https://cf.geekdo-images.com/micro/img/z0tTaij...            875   \n",
       "2  https://cf.geekdo-images.com/micro/img/0m3-oqB...            863   \n",
       "3  https://cf.geekdo-images.com/micro/img/h-Ejv31...            716   \n",
       "4  https://cf.geekdo-images.com/micro/img/VYp2s2f...            699   \n",
       "\n",
       "   minplayers  maxplayers  minage  mean_rating  weight  \\\n",
       "0           3           4      10      7.18061  2.3357   \n",
       "1           2           5       8      7.42375  1.9219   \n",
       "2           2           4       8      7.62865  2.4211   \n",
       "3           2           7      10      7.77245  2.3389   \n",
       "4           2           4      13      7.63822  2.3616   \n",
       "\n",
       "                                     categories  \\\n",
       "0                                   Negotiation   \n",
       "1     City Building,Medieval,Territory Building   \n",
       "2                                       Medical   \n",
       "3  Ancient,Card Game,City Building,Civilization   \n",
       "4                            Card Game,Medieval   \n",
       "\n",
       "                                           mechanics  \n",
       "0  Dice Rolling,Hexagon Grid,Income,Modular Board...  \n",
       "1           Area Majority / Influence,Tile Placement  \n",
       "2  Action Points,Cooperative Game,Hand Management...  \n",
       "3  Card Drafting,Drafting,Hand Management,Set Col...  \n",
       "4  Deck, Bag, and Pool Building,Hand Management,V...  "
      ]
     },
     "execution_count": 8,
     "metadata": {},
     "output_type": "execute_result"
    }
   ],
   "source": [
    "games['minplayers'] = minplayers\n",
    "games['maxplayers'] = maxplayers\n",
    "games['minage'] = minage\n",
    "games['mean_rating'] = mean_rating\n",
    "games['weight'] = weight\n",
    "games['categories'] = categories\n",
    "games['mechanics'] = mechanics\n",
    "\n",
    "# Write the DF to .csv for future use\n",
    "games.to_csv(datadir+\"bgg_game_info.csv\", index=False, encoding=\"utf-8\")\n",
    "print(games.shape)\n",
    "games.head()\n"
   ]
  },
  {
   "cell_type": "code",
   "execution_count": 18,
   "metadata": {},
   "outputs": [
    {
     "name": "stdout",
     "output_type": "stream",
     "text": [
      "Number of ratings for all games = 15,230,683\n"
     ]
    }
   ],
   "source": [
    "print('Number of ratings for all games =', format(games['nrate'].sum(), ','))\n",
    "\n"
   ]
  }
 ],
 "metadata": {
  "kernelspec": {
   "display_name": "Python 3",
   "language": "python",
   "name": "python3"
  },
  "language_info": {
   "codemirror_mode": {
    "name": "ipython",
    "version": 3
   },
   "file_extension": ".py",
   "mimetype": "text/x-python",
   "name": "python",
   "nbconvert_exporter": "python",
   "pygments_lexer": "ipython3",
   "version": "3.6.7"
  }
 },
 "nbformat": 4,
 "nbformat_minor": 2
}
