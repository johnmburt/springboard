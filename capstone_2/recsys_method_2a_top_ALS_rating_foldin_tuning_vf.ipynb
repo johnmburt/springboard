{
 "cells": [
  {
   "cell_type": "markdown",
   "metadata": {
    "slideshow": {
     "slide_type": "slide"
    }
   },
   "source": [
    "## Method 2a, Top ALS Rating: fold-in new user to utility matrix, select highest rated games\n",
    "### Model hyperparameter tuning and evaluation\n",
    "\n",
    "### Springboard Capstone 2 project: building a recommendation engine\n",
    "### John Burt\n",
    "\n",
    "The goal of my project is to develop a working board game recommender using a dataset of explicit game ratings from the boardgamegeek.com forum site. My idea was to ask a user to name some games that they like, and my recommender algorithm will use those games to predict other games the user might like. The first problem I encountered was that any user asking for a recommendation will be unknown to the system - i.e., they are \"new users\" and that presents a classic cold start issue: how do you give a recommendation if you don't know much about the user? Well, we do have the user's \"liked games\" to work with, but any model will need to somehow match that pattern of preferences to the preference patterns in the existing data.\n",
    "\n",
    "### Model description\n",
    "The second recommender model I developed is actually what I would call the \"baseline\" model: that is, it's based on the most common means of generating recommendations: using ALS based matrix factorization on the target user's ratings to fill in estimated ratings for all items, then selecting the highest rated to use as recommendations. The problem with this method for new users is that you need to \"fold-in\" the new user: add their ratings to the dataset and re-factorize the matrix. This is very CPU and memory intensive and not a viable production solution unless you can apply some tricks that I can't replicate here. However, it is worth testing the \"baseline\" procedure against my initial solution. \n",
    "\n",
    "This version of the \"Top ALS rating\" recommender takes a user's \"liked games\", adds the user to the utility matrix (the \"liked\" games are all rated 10), and then factorizes the ratings matrix using ALS to estimate the user's ratings for all other games. The algorithm then selects the top rated games as recommendations, excluding the input \"liked games\".\n",
    "\n",
    "- Note: For this analysis, I'm cheating a little bit: I ALS factorize all of my test users at the same time for each hyperparameter run, because otherwise the tuning would take forever. This may have an effect on the results, but given that the test users are randomly selected and only 10% of the total data, it seems unlikely to be noticeable.\n",
    "\n",
    "### Evalution function\n",
    "As with all models tested, I'm using a custom evaluation function to tune and assess the model:\n",
    "\n",
    "- Dataset is the unfilled user x game ratings matrix, train/test split by user.\n",
    "- For each test user:\n",
    "    - From N*2 top rated games, randomly select N as \"liked games\" to use as model input (X values).\n",
    "    - Remaining N top rated games assigned as holdouts to test for recommendations (y values).\n",
    "    - User score = # holdout games recommended / N\n",
    "    - The overall score is the mean user score for all test users.\n",
    "\n",
    "### Purpose of this notebook:\n",
    "\n",
    "Tune hyperparameters and evaluate the Top ALS rating new-user foldin model for various metrics.\n",
    "\n"
   ]
  },
  {
   "cell_type": "markdown",
   "metadata": {
    "slideshow": {
     "slide_type": "slide"
    }
   },
   "source": [
    "## Load data\n"
   ]
  },
  {
   "cell_type": "code",
   "execution_count": 1,
   "metadata": {
    "slideshow": {
     "slide_type": "subslide"
    }
   },
   "outputs": [
    {
     "name": "stdout",
     "output_type": "stream",
     "text": [
      "original: #games X #users: (12120, 65168)\n"
     ]
    }
   ],
   "source": [
    "# remove warnings\n",
    "import warnings\n",
    "warnings.filterwarnings('ignore')\n",
    "# ---\n",
    "\n",
    "%matplotlib inline\n",
    "import pandas as pd\n",
    "pd.options.display.max_columns = 100\n",
    "from matplotlib import pyplot as plt\n",
    "import matplotlib\n",
    "matplotlib.style.use('ggplot')\n",
    "import numpy as np\n",
    "\n",
    "from datetime import datetime\n",
    "\n",
    "# import utility functions, force reload \n",
    "import sys\n",
    "sys.path.append('./')\n",
    "import recsys_utilities\n",
    "import importlib\n",
    "importlib.reload(recsys_utilities)\n",
    "\n",
    "pd.options.display.max_rows = 100\n",
    "\n",
    "srcdir = './data/'\n",
    "\n",
    "# load the filled item-user utility matrix\n",
    "df = pd.read_hdf(srcdir+'bgg_game_mx_unfilled_v2.h5', 'mx')\n",
    "\n",
    "print('original: #games X #users:', df.shape)\n"
   ]
  },
  {
   "cell_type": "markdown",
   "metadata": {},
   "source": [
    "## Reduce the data"
   ]
  },
  {
   "cell_type": "code",
   "execution_count": 2,
   "metadata": {},
   "outputs": [
    {
     "name": "stdout",
     "output_type": "stream",
     "text": [
      "reduced: #games X #users: (6000, 30000)\n"
     ]
    }
   ],
   "source": [
    "numusers = 30000\n",
    "numgames = 6000\n",
    "gameidx = np.array(range(numgames))\n",
    "np.random.shuffle(gameidx)\n",
    "useridx = np.array(range(numusers))\n",
    "np.random.shuffle(useridx)\n",
    "df = df.iloc[gameidx, useridx]\n",
    "print('reduced: #games X #users:', df.shape)\n"
   ]
  },
  {
   "cell_type": "markdown",
   "metadata": {},
   "source": [
    "### Split data into train and test sets\n",
    "\n"
   ]
  },
  {
   "cell_type": "code",
   "execution_count": 3,
   "metadata": {},
   "outputs": [
    {
     "name": "stdout",
     "output_type": "stream",
     "text": [
      "train set: (27000, 6000)   test set: (3000, 10) (3000, 10)\n"
     ]
    }
   ],
   "source": [
    "from recsys_utilities import train_test_split_utilitymx\n",
    "\n",
    "# test output:\n",
    "n_top = 20\n",
    "n_liked = int(n_top/2)\n",
    "n_recs = n_liked\n",
    "\n",
    "# transpose so users = rows\n",
    "df_u = df.T\n",
    "\n",
    "# change index name to userID\n",
    "df_u.index.name = 'userID'\n",
    "\n",
    "# make userID a column\n",
    "df_u = df_u.reset_index()\n",
    "    \n",
    "# this function splits user x item ratings matrix into \n",
    "#  train and test sets, then it splits the test set into \n",
    "#  two sets of top rated game IDs for each user. \n",
    "train, test, test_X, test_y = train_test_split_utilitymx(df_u, \n",
    "                test_size=.1, n_liked=n_liked, n_recs=n_recs)\n",
    "\n",
    "print('train set:',train.shape, \n",
    "      '  test set:',test_X.shape, test_y.shape)\n"
   ]
  },
  {
   "cell_type": "markdown",
   "metadata": {},
   "source": [
    "## Implement recommender as sklearn estimator object"
   ]
  },
  {
   "cell_type": "code",
   "execution_count": 4,
   "metadata": {},
   "outputs": [],
   "source": [
    "from sklearn.base import BaseEstimator, ClassifierMixin\n",
    "from sklearn.decomposition import TruncatedSVD, PCA\n",
    "from scipy.spatial.distance import cdist\n",
    "from sklearn.preprocessing import StandardScaler\n",
    "from sklearn.metrics.pairwise import cosine_similarity\n",
    "\n",
    "from recsys_utilities import do_ALS_df\n",
    "\n",
    "class Recommender_ALS_foldin(BaseEstimator, ClassifierMixin):\n",
    "    \"\"\"recommender engine as an estimator\"\"\"\n",
    "\n",
    "    def __init__(self, \n",
    "                regularization=0.1, \n",
    "                n_factors=100,\n",
    "                n_iterations=8,\n",
    "                scale=True,\n",
    "                weighted=True,\n",
    "                bm25_K1=10,\n",
    "                bm25_B=0.8,\n",
    "                verbose=False):\n",
    "        \"\"\"\n",
    "        Called when initializing the model\n",
    "        \"\"\"\n",
    "        # model parameters\n",
    "        self.regularization = regularization\n",
    "        self.n_factors = n_factors\n",
    "        self.n_iterations = n_iterations\n",
    "        self.scale = scale\n",
    "        self.weighted = weighted\n",
    "        self.bm25_K1 = bm25_K1\n",
    "        self.bm25_B = bm25_B\n",
    "        \n",
    "        self.verbose = verbose\n",
    "\n",
    "        # internal data used for making recommendations\n",
    "        self.util_mx = None\n",
    "\n",
    "    # ******************************************************************\n",
    "    def set_params(self, **params):\n",
    "        self.__dict__.update(params)\n",
    "\n",
    "    # ******************************************************************\n",
    "    def do_ALS(self, X):\n",
    "        trained_mx, item_factors, user_factors = do_ALS_df(\n",
    "            X, ALS_method='implicit', \n",
    "            n_iterations=self.n_iterations, \n",
    "            regularization=self.regularization, \n",
    "            n_factors=self.n_factors, \n",
    "            verbose=self.verbose,\n",
    "            scale=self.scale,\n",
    "            weighted=self.weighted,\n",
    "            bm25_K1=self.bm25_K1,\n",
    "            bm25_B=self.bm25_B,\n",
    "            use_native=True,\n",
    "            use_cg=True,\n",
    "            use_gpu=False,\n",
    "            )   \n",
    "        \n",
    "        return trained_mx\n",
    "        \n",
    "    # ******************************************************************\n",
    "    def fit(self, X, y=None):\n",
    "        \"\"\" store utility matrix in model   \n",
    "            X = pd DataFrame utility matrix in user x item format\n",
    "            Note: no training is done here, since the fold-in \n",
    "                    factorization procedure happens at predict.\n",
    "        \"\"\"\n",
    "        \n",
    "        # fill utility matrix using ALS if it contains NaNs\n",
    "        self.util_mx = X\n",
    "        \n",
    "        # create array of game IDs\n",
    "        self.item_IDs = np.array(X.index)\n",
    "\n",
    "        return self\n",
    "\n",
    "    # ******************************************************************\n",
    "    def recommend_games_by_top_ratings(self, umx_f, userID, num2rec=10): \n",
    "        \"\"\"With filled user x item rating matrix umx_f, locate ratings\n",
    "        for userID, sort them and return the num2rec top rated itemIDs\"\"\"\n",
    "        # descending sort this user's ratings to get \n",
    "        # indices of top rated items\n",
    "        ind = np.argsort(-umx_f.loc[userID].values)\n",
    "        # return top num2rec item IDs\n",
    "        return umx_f.columns.values[ind[:num2rec]]\n",
    "    \n",
    "    # ******************************************************************\n",
    "    def fold_in_new_users(self, liked_items):\n",
    "\n",
    "        # create dataframe filled with NaNs\n",
    "        test_df = pd.DataFrame(np.nan, index=liked_items.index, \n",
    "                               columns=self.util_mx.columns)\n",
    "\n",
    "        # add 10 ratings for all \"liked\" games\n",
    "        for i in range(liked_items.shape[0]):\n",
    "            test_df.iloc[i,:].loc[liked_items.iloc[i,:]] = 10\n",
    "\n",
    "        # append the test users' liked games into training dataset\n",
    "        util_mx_folded = pd.concat([self.util_mx, test_df],axis=0)\n",
    "\n",
    "        return util_mx_folded\n",
    "\n",
    "    # ******************************************************************\n",
    "    def predict(self, X, num2rec=10):\n",
    "        \"\"\"recommend games\n",
    "        X = liked item IDs for each new user\n",
    "        \"\"\"\n",
    "        \n",
    "        # fold in the new users and factorize the resulting utility matrix\n",
    "        umx_f = self.do_ALS(self.fold_in_new_users(X))\n",
    "        \n",
    "        # recommend game IDs for each row of liked games in X\n",
    "        y = np.zeros([X.shape[0], num2rec])\n",
    "        for i in range(X.shape[0]):\n",
    "            y[i,:] = self.recommend_games_by_top_ratings(umx_f, X.index[i], num2rec=num2rec)            \n",
    "\n",
    "        return y\n",
    "\n",
    "    # ******************************************************************\n",
    "    def score(self, y_true, y_pred):\n",
    "        \"\"\"mean percent of y_true game IDs in y_pred\n",
    "        Both arrays are shape [num_users, num_gameIDs]\"\"\"\n",
    "        \n",
    "        n_recced = y_pred.shape[1]\n",
    "\n",
    "        # #recced==holdout_y / #recced\n",
    "        result = np.zeros([y_true.shape[0]])\n",
    "        for i,(true_vals, pred_vals) in enumerate(zip(y_true, y_pred)):\n",
    "            result[i] = len(set(true_vals).intersection(pred_vals))/n_recced\n",
    "        \n",
    "        return np.mean(result)\n",
    "    "
   ]
  },
  {
   "cell_type": "markdown",
   "metadata": {},
   "source": [
    "## Hyperparameter optimization using Baysian methods\n",
    "\n",
    "I'm using the hyperparameter tuning package [hyperopt](https://github.com/hyperopt/hyperopt).\n"
   ]
  },
  {
   "cell_type": "code",
   "execution_count": 5,
   "metadata": {},
   "outputs": [
    {
     "name": "stdout",
     "output_type": "stream",
     "text": [
      "  tune model\n",
      "100%|███████████████████████████████████████████████████| 50/50 [36:34<00:00, 43.89s/it, best loss: 0.8437666666666667]\n",
      "    done in 2194.470s,\n",
      "\n",
      "  Best parameters: {'n_factors': 19, 'regularization': 0.5585631935386431}\n"
     ]
    }
   ],
   "source": [
    "from scipy.sparse import hstack\n",
    "from sklearn.model_selection import train_test_split\n",
    "from sklearn.metrics import precision_score, recall_score, balanced_accuracy_score\n",
    "from sklearn.metrics import f1_score, roc_auc_score\n",
    "from time import time\n",
    "from hyperopt import tpe, hp, fmin, Trials\n",
    "from time import time\n",
    "from hyperopt import space_eval\n",
    "\n",
    "# model defaults\n",
    "defaults = {\n",
    "    'n_factors': 500,\n",
    "    'weighted': False, #True\n",
    "    'bm25_K1': 4,\n",
    "    'bm25_B': 0.5,\n",
    "    'n_iterations': 10,\n",
    "    'verbose': False,\n",
    "    'scale': True,\n",
    "    'regularization': 0.3,\n",
    "    }\n",
    " \n",
    "# hyperopt parameter space\n",
    "# param space if B25 weighting isn't used\n",
    "paramspace = {\n",
    "    'n_factors': 10+hp.randint('n_factors', 200),\n",
    "    'regularization': hp.uniform('regularization', 0.01, 1.0),\n",
    "    }\n",
    "                       \n",
    "# hyperopt objective function\n",
    "def objective(params):\n",
    "    rec = Recommender_ALS_foldin(**defaults)\n",
    "    rec.set_params(**params)\n",
    "    rec.fit(train)\n",
    "    y_pred = rec.predict(test_X, num2rec=n_recs)\n",
    "    score = rec.score(test_y.values, y_pred)\n",
    "    return 1-score\n",
    "\n",
    "# The Trials object will store details of each iteration\n",
    "trials = Trials()\n",
    "    \n",
    "# Run the hyperparameter search using the tpe algorithm\n",
    "t0 = time()\n",
    "print('  tune model')\n",
    "best = fmin(fn=objective, space=paramspace, algo=tpe.suggest, max_evals=50, trials=trials)\n",
    "print('    done in %0.3fs,'%(time() - t0))\n",
    "\n",
    "# Get the values of the optimal parameters\n",
    "best_params = space_eval(paramspace, best)\n",
    "print('\\n  Best parameters:',best_params)   \n",
    "\n",
    "    "
   ]
  },
  {
   "cell_type": "markdown",
   "metadata": {},
   "source": [
    "## Plotting the optimization results"
   ]
  },
  {
   "cell_type": "code",
   "execution_count": 6,
   "metadata": {},
   "outputs": [
    {
     "name": "stdout",
     "output_type": "stream",
     "text": [
      "avg best error: 0.8437666666666667\n"
     ]
    },
    {
     "data": {
      "image/png": "[encoded data removed]",
      "text/plain": [
       "<Figure size 720x360 with 1 Axes>"
      ]
     },
     "metadata": {
      "needs_background": "light"
     },
     "output_type": "display_data"
    },
    {
     "name": "stdout",
     "output_type": "stream",
     "text": [
      "Showing Histogram of 50 jobs\n"
     ]
    },
    {
     "data": {
      "image/png": "[encoded data removed]",
      "text/plain": [
       "<Figure size 720x360 with 1 Axes>"
      ]
     },
     "metadata": {
      "needs_background": "light"
     },
     "output_type": "display_data"
    },
    {
     "name": "stdout",
     "output_type": "stream",
     "text": [
      "finite loss range 0.8437666666666667 0.9425333333333333 -0.15623333333333334\n"
     ]
    },
    {
     "data": {
      "image/png": "[encoded data removed]",
      "text/plain": [
       "<Figure size 1080x360 with 2 Axes>"
      ]
     },
     "metadata": {
      "needs_background": "light"
     },
     "output_type": "display_data"
    }
   ],
   "source": [
    "import hyperopt.plotting\n",
    "\n",
    "plt.figure( figsize=(10,5))\n",
    "hyperopt.plotting.main_plot_history(trials)\n",
    "plt.figure( figsize=(10,5))\n",
    "hyperopt.plotting.main_plot_histogram(trials)\n",
    "plt.figure( figsize=(15,5))\n",
    "hyperopt.plotting.main_plot_vars(trials)\n"
   ]
  },
  {
   "cell_type": "markdown",
   "metadata": {},
   "source": [
    "## Plot performance of hyperparams across the range tested"
   ]
  },
  {
   "cell_type": "code",
   "execution_count": 7,
   "metadata": {
    "scrolled": false
   },
   "outputs": [
    {
     "data": {
      "image/png": "[encoded data removed]",
      "text/plain": [
       "<Figure size 720x360 with 2 Axes>"
      ]
     },
     "metadata": {
      "needs_background": "light"
     },
     "output_type": "display_data"
    },
    {
     "data": {
      "image/png": "[encoded data removed]",
      "text/plain": [
       "<Figure size 720x360 with 2 Axes>"
      ]
     },
     "metadata": {
      "needs_background": "light"
     },
     "output_type": "display_data"
    }
   ],
   "source": [
    "\n",
    "# only get x and y vals for plotting if there is an associated \n",
    "#  loss value. \n",
    "#  Additionally, need to deal with nested results \n",
    "def get_plot_vals(results, paramname):\n",
    "    x_val = [t['tid'] for t in results]\n",
    "    y_val = [t['misc']['vals'][paramname] for t in results]\n",
    "    # list of lists means some entries are empty\n",
    "    if type(y_val[0]) is list: \n",
    "        ytemp = np.array([y[0] if y else np.nan for y in y_val])\n",
    "        y_val = np.array(ytemp)[~np.isnan(ytemp)]\n",
    "        x_val = np.array(x_val)[~np.isnan(ytemp)]\n",
    "    x_loss = [t['misc']['vals'][paramname] for t in results]\n",
    "    y_loss = [t['result']['loss'] for t in results]\n",
    "    # list of lists means some entries are empty\n",
    "    if type(x_loss[0]) is list:\n",
    "        xtemp = np.array([x[0] if x else np.nan for x in x_loss])\n",
    "        y_loss = np.array(y_loss)[~np.isnan(xtemp)]\n",
    "        x_loss = np.array(xtemp)[~np.isnan(xtemp)]\n",
    "    return x_val, y_val, x_loss, y_loss\n",
    "\n",
    "# if 'loss' not in results[-1]['result']:\n",
    "#     results = results[:-1]\n",
    "\n",
    "results = trials.trials[:-1]\n",
    "# results = trials.trials\n",
    "times = [t['tid'] for t in results]\n",
    "\n",
    "for paramname in results[0]['misc']['vals'].keys():\n",
    "    x_val, y_val, x_loss, y_loss = get_plot_vals(results, paramname)\n",
    "    \n",
    "    f, ax = plt.subplots(1,2, figsize=(10,5))\n",
    "    xs = times\n",
    "    # param value over time\n",
    "    ax[0].set_xlim(xs[0]-10, xs[-1]+10)\n",
    "    ax[0].scatter(x_val, y_val, s=20, linewidth=0.01, alpha=0.75)\n",
    "    ax[0].set_title('%s vs t '%(paramname), fontsize=18)\n",
    "    ax[0].set_xlabel('t', fontsize=16)\n",
    "    ax[0].set_ylabel(paramname, fontsize=16)\n",
    "    \n",
    "    # loss vs param val\n",
    "    ax[1].set_ylim(min(y_loss)-.001, max(y_loss)+.001)\n",
    "    ax[1].scatter(x_loss, y_loss, s=20, linewidth=0.01, alpha=0.75)\n",
    "    ax[1].set_title('loss vs %s '%(paramname), fontsize=18)\n",
    "    ax[1].set_xlabel(paramname, fontsize=16)\n",
    "    ax[1].set_ylabel('loss', fontsize=16)\n",
    "    plt.tight_layout()\n"
   ]
  },
  {
   "cell_type": "markdown",
   "metadata": {},
   "source": [
    "## Cross-validate model performance using the best parameters"
   ]
  },
  {
   "cell_type": "code",
   "execution_count": 8,
   "metadata": {},
   "outputs": [
    {
     "name": "stdout",
     "output_type": "stream",
     "text": [
      "Working:.....\n",
      "\n",
      "Fold 0 score = 0.1601\n",
      "Fold 1 score = 0.1565\n",
      "Fold 2 score = 0.1608\n",
      "Fold 3 score = 0.1597\n",
      "Fold 4 score = 0.1565\n",
      "\n",
      "Mean score = 0.1587\n"
     ]
    }
   ],
   "source": [
    "from sklearn.model_selection import KFold\n",
    "from recsys_utilities import get_test_Xy\n",
    "# import utility functions, force reload \n",
    "import sys\n",
    "sys.path.append('./')\n",
    "import recsys_utilities\n",
    "import importlib\n",
    "importlib.reload(recsys_utilities)\n",
    "\n",
    "def cv_score(clf, X, nfold = 5):\n",
    "    \"\"\"Calculate nfolds CV scores\"\"\"\n",
    "    scores = []\n",
    "    print('Working:',end='')\n",
    "    # split data into train/test groups, nfold times\n",
    "    for train_idx, test_idx in KFold(nfold,shuffle=True).split(X): \n",
    "        # fit the recommender\n",
    "        clf.fit(X.iloc[train_idx,:]) \n",
    "        test_X, test_y = get_test_Xy(X.iloc[test_idx,:], \n",
    "                                     n_liked=n_liked, n_recs=n_recs )\n",
    "        # evaluate score function on held-out data\n",
    "        y_pred = clf.predict(test_X, num2rec=n_recs)\n",
    "        scores.append(clf.score(test_y.values, y_pred))\n",
    "        print('.', end='')\n",
    "        \n",
    "    return scores\n",
    "\n",
    "# prep source dataframe\n",
    "try: \n",
    "    df_u = df_u.set_index('userID') \n",
    "except: \n",
    "    pass\n",
    "\n",
    "# create the recommender object\n",
    "clf = Recommender_ALS_foldin(**defaults)\n",
    "clf.set_params(**best_params)\n",
    "\n",
    "scores = cv_score(clf, df_u, nfold = 5)\n",
    "\n",
    "print('\\n')\n",
    "for i, score in enumerate(scores):\n",
    "    print('Fold %d score = %1.4f'%(i,score))\n",
    "    \n",
    "print('\\nMean score = %1.4f'%(np.mean(scores)))"
   ]
  }
 ],
 "metadata": {
  "kernelspec": {
   "display_name": "Python 3",
   "language": "python",
   "name": "python3"
  },
  "language_info": {
   "codemirror_mode": {
    "name": "ipython",
    "version": 3
   },
   "file_extension": ".py",
   "mimetype": "text/x-python",
   "name": "python",
   "nbconvert_exporter": "python",
   "pygments_lexer": "ipython3",
   "version": "3.6.7"
  }
 },
 "nbformat": 4,
 "nbformat_minor": 2
}
