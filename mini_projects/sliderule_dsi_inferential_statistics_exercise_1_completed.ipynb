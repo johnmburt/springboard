{
 "cells": [
  {
   "cell_type": "markdown",
   "metadata": {},
   "source": [
    "# What is the True Normal Human Body Temperature? \n",
    "\n",
    "#### Background\n",
    "\n",
    "The mean normal body temperature was held to be 37$^{\\circ}$C or 98.6$^{\\circ}$F for more than 120 years since it was first conceptualized and reported by Carl Wunderlich in a famous 1868 book. But, is this value statistically correct?"
   ]
  },
  {
   "cell_type": "markdown",
   "metadata": {},
   "source": [
    "<h3>Exercises</h3>\n",
    "\n",
    "<p>In this exercise, you will analyze a dataset of human body temperatures and employ the concepts of hypothesis testing, confidence intervals, and statistical significance.</p>\n",
    "\n",
    "<p>Answer the following questions <b>in this notebook below and submit to your Github account</b>.</p> \n",
    "\n",
    "You can include written notes in notebook cells using Markdown: \n",
    "   - In the control panel at the top, choose Cell > Cell Type > Markdown\n",
    "   - Markdown syntax: http://nestacms.com/docs/creating-content/markdown-cheat-sheet\n",
    "\n",
    "#### Resources\n",
    "\n",
    "+ Information and data sources: http://www.amstat.org/publications/jse/datasets/normtemp.txt, http://www.amstat.org/publications/jse/jse_data_archive.htm\n",
    "+ Markdown syntax: http://nestacms.com/docs/creating-content/markdown-cheat-sheet\n",
    "\n",
    "****"
   ]
  },
  {
   "cell_type": "code",
   "execution_count": 103,
   "metadata": {},
   "outputs": [],
   "source": [
    "# remove warnings\n",
    "import warnings\n",
    "warnings.filterwarnings('ignore')\n",
    "\n",
    "import pandas as pd\n",
    "import numpy as np\n",
    "%matplotlib inline\n",
    "from matplotlib import pyplot as plt\n",
    "import matplotlib\n",
    "matplotlib.style.use('ggplot')\n",
    "import seaborn as sns\n",
    "\n",
    "df = pd.read_csv('data/human_body_temperature.csv')"
   ]
  },
  {
   "cell_type": "markdown",
   "metadata": {},
   "source": [
    "## Helper functions:"
   ]
  },
  {
   "cell_type": "code",
   "execution_count": 104,
   "metadata": {},
   "outputs": [],
   "source": [
    "def test_null_hypothesis(nulltext, pval, alpha):\n",
    "    \"\"\"test null hypothesis and print results\"\"\"\n",
    "    if (pval < alpha):\n",
    "        print('Result IS sig diff from H( %s )'%(nulltext))\n",
    "    else:\n",
    "        print('Result is NOT sig diff from H( %s )'%(nulltext))   \n",
    "        \n",
    "def bootstrap_replicate_1d(data, func):\n",
    "    \"\"\"datacamp func to draw one bootstrap replicate\"\"\"\n",
    "    return func(np.random.choice(data, size=len(data)))\n",
    "\n",
    "# datacamp func to draw bootstrap reps\n",
    "def draw_bs_reps(data, func, size=1):\n",
    "    \"\"\"Draw bootstrap replicates.\"\"\"\n",
    "\n",
    "    # Initialize array of replicates: bs_replicates\n",
    "    bs_replicates = np.empty(size)\n",
    "\n",
    "    # Generate replicates\n",
    "    for i in range(size):\n",
    "        bs_replicates[i] = bootstrap_replicate_1d(data, func)\n",
    "\n",
    "    return bs_replicates"
   ]
  },
  {
   "cell_type": "code",
   "execution_count": 105,
   "metadata": {},
   "outputs": [
    {
     "name": "stdout",
     "output_type": "stream",
     "text": [
      "       temperature  heart_rate\n",
      "count   130.000000  130.000000\n",
      "mean     98.249231   73.761538\n",
      "std       0.733183    7.062077\n",
      "min      96.300000   57.000000\n",
      "25%      97.800000   69.000000\n",
      "50%      98.300000   74.000000\n",
      "75%      98.700000   79.000000\n",
      "max     100.800000   89.000000\n"
     ]
    },
    {
     "data": {
      "text/html": [
       "<div>\n",
       "<style scoped>\n",
       "    .dataframe tbody tr th:only-of-type {\n",
       "        vertical-align: middle;\n",
       "    }\n",
       "\n",
       "    .dataframe tbody tr th {\n",
       "        vertical-align: top;\n",
       "    }\n",
       "\n",
       "    .dataframe thead th {\n",
       "        text-align: right;\n",
       "    }\n",
       "</style>\n",
       "<table border=\"1\" class=\"dataframe\">\n",
       "  <thead>\n",
       "    <tr style=\"text-align: right;\">\n",
       "      <th></th>\n",
       "      <th>temperature</th>\n",
       "      <th>gender</th>\n",
       "      <th>heart_rate</th>\n",
       "    </tr>\n",
       "  </thead>\n",
       "  <tbody>\n",
       "    <tr>\n",
       "      <th>0</th>\n",
       "      <td>99.3</td>\n",
       "      <td>F</td>\n",
       "      <td>68.0</td>\n",
       "    </tr>\n",
       "    <tr>\n",
       "      <th>1</th>\n",
       "      <td>98.4</td>\n",
       "      <td>F</td>\n",
       "      <td>81.0</td>\n",
       "    </tr>\n",
       "    <tr>\n",
       "      <th>2</th>\n",
       "      <td>97.8</td>\n",
       "      <td>M</td>\n",
       "      <td>73.0</td>\n",
       "    </tr>\n",
       "    <tr>\n",
       "      <th>3</th>\n",
       "      <td>99.2</td>\n",
       "      <td>F</td>\n",
       "      <td>66.0</td>\n",
       "    </tr>\n",
       "    <tr>\n",
       "      <th>4</th>\n",
       "      <td>98.0</td>\n",
       "      <td>F</td>\n",
       "      <td>73.0</td>\n",
       "    </tr>\n",
       "  </tbody>\n",
       "</table>\n",
       "</div>"
      ],
      "text/plain": [
       "   temperature gender  heart_rate\n",
       "0         99.3      F        68.0\n",
       "1         98.4      F        81.0\n",
       "2         97.8      M        73.0\n",
       "3         99.2      F        66.0\n",
       "4         98.0      F        73.0"
      ]
     },
     "execution_count": 105,
     "metadata": {},
     "output_type": "execute_result"
    }
   ],
   "source": [
    "# taking a quick descriptive look at the data\n",
    "print(df.describe())\n",
    "\n",
    "df.head()"
   ]
  },
  {
   "cell_type": "markdown",
   "metadata": {
    "collapsed": true
   },
   "source": [
    "### Is the distribution of body temperatures normal? \n",
    "\n",
    "Although this is not a requirement for the Central Limit Theorem to hold (read the introduction on Wikipedia's page about the CLT carefully: https://en.wikipedia.org/wiki/Central_limit_theorem), it gives us some peace of mind that the population may also be normally distributed if we assume that this sample is representative of the population.\n",
    "\n",
    "Think about the way you're going to check for the normality of the distribution. Graphical methods are usually used first, but there are also other ways: https://en.wikipedia.org/wiki/Normality_test\n"
   ]
  },
  {
   "cell_type": "code",
   "execution_count": 106,
   "metadata": {},
   "outputs": [
    {
     "name": "stdout",
     "output_type": "stream",
     "text": [
      "Hist looks roughly normal...\n",
      "\n",
      "Normality test: stat=2.704, pval=0.259\n",
      "Result is NOT sig diff from H( is normally distributed )\n"
     ]
    },
    {
     "data": {
      "image/png": "[encoded data removed]",
      "text/plain": [
       "<Figure size 432x288 with 1 Axes>"
      ]
     },
     "metadata": {},
     "output_type": "display_data"
    }
   ],
   "source": [
    "# plot a histogram as a visual normality check\n",
    "sns.distplot(df['temperature']);\n",
    "\n",
    "print('Hist looks roughly normal...')\n",
    "\n",
    "# do a D’Agostino’s K^2 normality test:\n",
    "from scipy.stats import normaltest\n",
    "\n",
    "stat, pval = normaltest(df['temperature'])\n",
    "\n",
    "print('\\nNormality test: stat=%1.3f, pval=%1.3f'%(stat, pval))\n",
    "\n",
    "# test the null hypothesis\n",
    "test_null_hypothesis('is normally distributed', pval, .05)\n"
   ]
  },
  {
   "cell_type": "markdown",
   "metadata": {},
   "source": [
    "### Is the sample size large? \n",
    "- Answer: The sample size is not small, <= 30 samples by the statistical definition of small. Not sure what formally defines \"large\", but if a sample that is not small is large, then this is large.\n",
    "\n",
    "### Are the observations independent? \n",
    "- Answer: the data was [synthesized from a 1992 article](http://jse.amstat.org/v4n2/datasets.shoemaker.html). It is not stated that generated samples are independent, but we can probably assume this given the original data was independent.\n",
    "    \n",
    "Remember that this is a condition for the Central Limit Theorem, and hence the statistical tests we are using, to apply.\n"
   ]
  },
  {
   "cell_type": "markdown",
   "metadata": {},
   "source": [
    "## Is the true population mean really 98.6 degrees F?\n"
   ]
  },
  {
   "cell_type": "markdown",
   "metadata": {},
   "source": [
    "### First, try a bootstrap hypothesis test.\n"
   ]
  },
  {
   "cell_type": "code",
   "execution_count": 107,
   "metadata": {
    "scrolled": true
   },
   "outputs": [
    {
     "name": "stdout",
     "output_type": "stream",
     "text": [
      "Bootstrap pval = 0.000000000\n",
      "Result IS sig diff from H( mean is 98.6 F )\n"
     ]
    }
   ],
   "source": [
    "# I will use a one sample bootstrap hypothesis test, \n",
    "#  with a null hypothesis that the mean is 98.6 F\n",
    "\n",
    "# Make an array of translated temps\n",
    "translated_temps = df['temperature'] - np.mean(df['temperature']) + 98.6\n",
    "\n",
    "# Take bootstrap replicates of translated temps\n",
    "bs_replicates = draw_bs_reps(translated_temps, np.mean, 10000)\n",
    "\n",
    "# Compute fraction of replicates that are less than the observed temp\n",
    "pval = np.sum(bs_replicates <= np.mean(df['temperature'])) / 10000\n",
    "\n",
    "# Print the p-value\n",
    "print('Bootstrap pval = %1.9f'%(pval))\n",
    "\n",
    "# test the null hypothesis\n",
    "test_null_hypothesis('mean is 98.6 F', pval, .05)\n"
   ]
  },
  {
   "cell_type": "markdown",
   "metadata": {},
   "source": [
    "### Now, let's try frequentist statistical testing. \n",
    "\n",
    "#### Would you use a one-sample or two-sample test? Why?\n",
    "- Answer: this test would require a one sample t-test for a mean of 98.6 F, because there is only one sample to test from.\n",
    "\n",
    "#### In this situation, is it appropriate to use the t or z statistic? \n",
    "- Answer: the population SD is not known, therefore a t-test is recommended.\n",
    "\n",
    "#### Now try using the other test. How is the result different? Why?\n",
    "- Answer: The result is not very different - in both cases the p-value is extremely small.\n"
   ]
  },
  {
   "cell_type": "code",
   "execution_count": 108,
   "metadata": {},
   "outputs": [
    {
     "name": "stdout",
     "output_type": "stream",
     "text": [
      "\n",
      "t-test: stat=-5.455, pval=0.000000241\n",
      "Result IS sig diff from H( mean is 98.6 F )\n",
      "\n",
      "z-test: z-score=-5.476, pval = 0.000000022\n",
      "Result IS sig diff from H( mean is 98.6 F )\n"
     ]
    }
   ],
   "source": [
    "from scipy.stats import ttest_1samp\n",
    "from scipy.stats import norm\n",
    "\n",
    "# test the temps \n",
    "stat, pval = ttest_1samp(df['temperature'], 98.6)\n",
    " \n",
    "print('\\nt-test: stat=%1.3f, pval=%1.9f'%(stat, pval))\n",
    "\n",
    "# test the null hypothesis\n",
    "test_null_hypothesis('mean is 98.6 F', pval, .05)\n",
    "\n",
    "# try using the other test\n",
    "# using z-score method: z = (x – μ)*√n / σ \n",
    "\n",
    "# using sample sd as σ\n",
    "z = ( (np.mean(df['temperature']) - 98.6) \n",
    "     * np.sqrt(len(df['temperature'])) \n",
    "     / np.std(df['temperature']) )\n",
    "\n",
    "print('\\nz-test: z-score=%1.3f, pval = %1.9f'%(z, norm.cdf(z)))\n",
    "\n",
    "test_null_hypothesis('mean is 98.6 F', norm.cdf(z), .05)"
   ]
  },
  {
   "cell_type": "markdown",
   "metadata": {},
   "source": [
    "### Draw a small sample of size 10 from the data and repeat both frequentist tests. \n",
    "\n",
    "#### Which one is the correct one to use? \n",
    "- Answer: t-test is recommended for sample sizes < 30\n",
    "\n",
    "#### What do you notice? What does this tell you about the difference in application of the t and z statistic?\n",
    "- Answer: The results are non-significant. After balancing the sampled data, the z-test usually reports a lower p value than the t-test. This suggests the z-test is a little more sensitive."
   ]
  },
  {
   "cell_type": "code",
   "execution_count": 109,
   "metadata": {},
   "outputs": [
    {
     "name": "stdout",
     "output_type": "stream",
     "text": [
      "\n",
      "t-test: stat=-3.450, pval=0.007277499\n",
      "Result IS sig diff from H( mean is 98.6 F )\n",
      "\n",
      "z-test: z-score=-3.636, pval = 0.000138257\n",
      "Result IS sig diff from H( mean is 98.6 F )\n"
     ]
    }
   ],
   "source": [
    "# separate male and female temperatures\n",
    "males = df['temperature'][df['gender']=='M']\n",
    "females = df['temperature'][df['gender']=='F']\n",
    "\n",
    "# generate a  m/f balanced random subsample of temperatures:\n",
    "pd.concat([males.sample(5),females.sample(5)])\n",
    "\n",
    "subsample = df['temperature'].sample(10)\n",
    "\n",
    "# test the temps \n",
    "stat, pval = ttest_1samp(subsample, 98.6)\n",
    " \n",
    "print('\\nt-test: stat=%1.3f, pval=%1.9f'%(stat, pval))\n",
    "\n",
    "# test the null hypothesis\n",
    "test_null_hypothesis('mean is 98.6 F', pval, .05)\n",
    "\n",
    "# try using the other test\n",
    "# using z-score method: z = (x – μ)*√n / σ \n",
    "\n",
    "# using sample sd as σ\n",
    "z = ( (np.mean(subsample) - 98.6) \n",
    "     * np.sqrt(len(subsample)) \n",
    "     / np.std(subsample) )\n",
    "\n",
    "print('\\nz-test: z-score=%1.3f, pval = %1.9f'%(z, norm.cdf(z)))\n",
    "\n",
    "test_null_hypothesis('mean is 98.6 F', norm.cdf(z), .05)"
   ]
  },
  {
   "cell_type": "markdown",
   "metadata": {},
   "source": [
    "### At what temperature should we consider someone's temperature to be \"abnormal\"?\n",
    "\n",
    "#### As in the previous example, try calculating everything using the boostrap approach, as well as the frequentist approach.\n",
    "\n",
    "#### Start by computing the margin of error and confidence interval. When calculating the confidence interval, keep in mind that you should use the appropriate formula for one draw, and not N draws.\n"
   ]
  },
  {
   "cell_type": "code",
   "execution_count": 110,
   "metadata": {},
   "outputs": [
    {
     "name": "stdout",
     "output_type": "stream",
     "text": [
      "frequentist method:\n",
      "Mean +/- MOE = 98.249 +/- 0.126\n",
      "95% CI = 98.12319411222849 98.37526742623301\n",
      "\n",
      "bootstrap method: \n",
      "95% confidence interval = [98.12230769 98.37384615] F\n"
     ]
    }
   ],
   "source": [
    "samp_mean = df['temperature'].mean()\n",
    "samp_std = df['temperature'].std()\n",
    "samp_n = len(df['temperature'])\n",
    "\n",
    "# note: another way to get 95% CI:\n",
    "# conf_int = norm.interval(0.95, loc=samp_mean, scale=samp_std/np.sqrt(samp_n))\n",
    "\n",
    "# MOE at 95% CI = z(95%) * sd / sqrt(n)\n",
    "moe = 1.96 * samp_std / np.sqrt(samp_n)\n",
    "print('frequentist method:')\n",
    "print('Mean +/- MOE = %2.3f +/- %1.3f'%(samp_mean, moe))\n",
    "\n",
    "print('95% CI =',samp_mean-moe,samp_mean+moe)\n",
    "\n",
    "# using the bootstrap approach:\n",
    "print('\\nbootstrap method: ')\n",
    "\n",
    "bs_replicates = draw_bs_reps(df['temperature'],np.mean,10000)\n",
    "\n",
    "norm.interval(0.95, loc=np.mean(bs_replicates), \n",
    "              scale=np.std(bs_replicates))\n",
    "\n",
    "# Compute the 95% confidence interval: conf_int\n",
    "conf_int = np.percentile(bs_replicates,[2.5,97.5])\n",
    "\n",
    "# Print the confidence interval\n",
    "print('95% confidence interval =', conf_int, 'F')\n",
    "\n"
   ]
  },
  {
   "cell_type": "markdown",
   "metadata": {},
   "source": [
    "### Is there a significant difference between males and females in normal temperature?\n",
    "- Answer: yes, there is a significant difference: men have lower body temperatures.\n",
    "\n",
    "#### What testing approach did you use and why?\n",
    "- Answer: I used an two sample t-test for independent samples. This the correct test for these data, and is simpler than bootstrap methods.\n",
    "\n"
   ]
  },
  {
   "cell_type": "code",
   "execution_count": 111,
   "metadata": {},
   "outputs": [
    {
     "name": "stdout",
     "output_type": "stream",
     "text": [
      "mean body temps: men=98.105, women=98.394\n",
      "\n",
      "two sample unpaired t-test: t=-2.285, pval=0.024\n",
      "Result IS sig diff from H( Men and women have same body temp )\n"
     ]
    }
   ],
   "source": [
    "# using a two sample unpaired (independent) t-test\n",
    "from scipy.stats import ttest_ind\n",
    "\n",
    "males = df['temperature'][df['gender']=='M']\n",
    "females = df['temperature'][df['gender']=='F']\n",
    "\n",
    "stat, pval = ttest_ind(males,females)\n",
    "\n",
    "print('mean body temps: men=%1.3f, women=%1.3f'%(males.mean(), females.mean()))\n",
    "\n",
    "print('\\ntwo sample unpaired t-test: t=%1.3f, pval=%1.3f'%(stat,pval))\n",
    "test_null_hypothesis('Men and women have same body temp', pval, .05)"
   ]
  },
  {
   "cell_type": "markdown",
   "metadata": {},
   "source": [
    "#### Write a story with your conclusion in the context of the original problem.\n",
    "\n",
    "The results of these tests provide strong to refute the prevailing belief that the human body temperature is 98.6F. Based on these sample measurements, the actual mean body temperature is closer to 98.3F. Furthermore, male and female body temperatures were found to be significantly different (98.1F vs 98.4F for men and women, respectively). "
   ]
  },
  {
   "cell_type": "code",
   "execution_count": null,
   "metadata": {},
   "outputs": [],
   "source": []
  }
 ],
 "metadata": {
  "kernelspec": {
   "display_name": "Python 3",
   "language": "python",
   "name": "python3"
  },
  "language_info": {
   "codemirror_mode": {
    "name": "ipython",
    "version": 3
   },
   "file_extension": ".py",
   "mimetype": "text/x-python",
   "name": "python",
   "nbconvert_exporter": "python",
   "pygments_lexer": "ipython3",
   "version": "3.5.6"
  }
 },
 "nbformat": 4,
 "nbformat_minor": 1
}
