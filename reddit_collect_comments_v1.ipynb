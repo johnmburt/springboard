{
 "cells": [
  {
   "cell_type": "markdown",
   "metadata": {},
   "source": [
    "## Sample Reddit comments\n",
    "\n",
    "Collect Reddit comment data to build a classifier that can identify toxic comments.\n",
    "\n",
    "The script samples all comments \"hot\" sorted posts within a list of subreddits.\n",
    "\n",
    "Stores text comments to CSV with features:\n",
    "- comment ID#\n",
    "- subreddit name\n",
    "- post ID#\n",
    "- parent ID#\n",
    "- comment timestamp\n",
    "- comment age since post time\n",
    "- comment age since now\n",
    "- user ID#\n",
    "- user name\n",
    "- user created date\n",
    "- user comment karma\n",
    "- user link karma\n",
    "- #replies to the comment\n",
    "- contoversial flag state\n",
    "- comment vote score\n",
    "- comment text (converted to ascii)\n",
    "\n",
    "Note: PRAW install:\n",
    "pip install praw\n"
   ]
  },
  {
   "cell_type": "code",
   "execution_count": null,
   "metadata": {},
   "outputs": [],
   "source": [
    "# remove warnings\n",
    "import warnings\n",
    "warnings.filterwarnings('ignore')\n",
    "# ---\n",
    "\n",
    "import pandas as pd\n",
    "import numpy as np\n",
    "import datetime\n",
    "import time\n",
    "import csv"
   ]
  },
  {
   "cell_type": "markdown",
   "metadata": {},
   "source": [
    "## create reddit instance and log in"
   ]
  },
  {
   "cell_type": "code",
   "execution_count": null,
   "metadata": {},
   "outputs": [],
   "source": [
    "import praw\n",
    "\n",
    "reddit = praw.Reddit(client_id='7BHzw3jn54Hm7Q',\n",
    "                     client_secret='Qw9lMWDx99daGcJ1vX6xX_peL3c',\n",
    "                     user_agent='testscript',\n",
    "                    )\n",
    "\n"
   ]
  },
  {
   "cell_type": "markdown",
   "metadata": {},
   "source": [
    "## Collecting posts and comments \n",
    "\n",
    "This cell collects all comments from 100 'top' sorted posts in a given list of subreddits. The collected comments include a number of features such as time of comment, user info, number of replies and voting score.\n",
    "\n",
    "The comments are written to a CSV file.\n",
    "\n",
    "NOTE 1: Reddit limits access speed so the sampling will take a very long time - hours for large comment trees.\n",
    "\n",
    "NOTE 2: 2/19/19 sub.comments.replace_more(limit=0) (delete all morecomments) was changed to sub.comments.replace_more(limit=None) (expand all morecomments). Earlier data sampled than this did not include any deeper comment tree comments.\n"
   ]
  },
  {
   "cell_type": "code",
   "execution_count": null,
   "metadata": {},
   "outputs": [],
   "source": [
    "header = ['comment_ID', 'sub_name','post_ID', 'parent_ID', \n",
    "          'time', 'age_re_post','age_re_now',\n",
    "          'u_id', 'u_name', 'u_created', 'u_comment_karma', 'u_link_karma',\n",
    "          'num_replies', 'controversy', 'score', 'text']\n",
    "\n",
    "# give list of subreddit names to sample from\n",
    "# subnames = ['politics', 'democrats', 'republicans']\n",
    "subnames = ['politics']\n",
    "# subnames = ['aww']\n",
    "# subnames = ['photography']\n",
    "#subnames = ['todayilearned']\n",
    "\n",
    "# create output filename, appending unique time string\n",
    "csvfilename = ('comment_sample_' + '_'.join(s for s in subnames) + \n",
    "    datetime.datetime.now().strftime('%y%m%d_%H%M%S') + '.csv')\n",
    "\n",
    "# number of posts ('submissions') to sample from each subreddit\n",
    "numsubs = 100\n",
    "\n",
    "with open(csvfilename, 'w', newline='', encoding='utf-8') as csvfile:\n",
    "    writer = csv.writer(csvfile)          \n",
    "    writer.writerow(header)\n",
    "\n",
    "    # sample from each sub in sublist\n",
    "    for subname in subnames:\n",
    "        i = 1\n",
    "        # sample all comments from each of numsubs posts\n",
    "        for sub in reddit.subreddit(subnames[0]).top(limit=numsubs):\n",
    "            print('post %d : %s'%(i,sub.title))\n",
    "            i += 1\n",
    "            # expand comment tree to include all comments \n",
    "            sub.comments.replace_more(limit=None)\n",
    "            print(' ',len(sub.comments.list()),'comments')\n",
    "            print(' #collected: ',end='')\n",
    "            for com, comnum in zip(sub.comments.list(), range(len(sub.comments.list()))):\n",
    "                try:\n",
    "                    if com.score_hidden != True:\n",
    "                            text = com.body.encode().decode('ascii',errors='ignore')\n",
    "                            writer.writerow([com.id, subname, sub.id, com.parent_id,\n",
    "                                             com.created_utc, \n",
    "                                             com.created_utc-sub.created_utc,\n",
    "                                             datetime.datetime.utcnow().timestamp() - com.created_utc,\n",
    "                                             com.author.id, com.author.name,\n",
    "                                             com.author.created_utc, \n",
    "                                             com.author.comment_karma,\n",
    "                                             com.author.link_karma,\n",
    "                                             len(com.replies.list()),\n",
    "                                             com.controversiality,\n",
    "                                             com.score,\n",
    "                                             text])\n",
    "                except:\n",
    "                    pass\n",
    "#                     print('**error:', com.body)\n",
    "\n",
    "                if comnum % 250 == 0:\n",
    "                    print(comnum,',',end='')\n",
    "                    \n",
    "            # write this post's comments to disk\n",
    "            csvfile.flush()\n",
    "print('\\n\\ndone')\n",
    "\n"
   ]
  },
  {
   "cell_type": "code",
   "execution_count": null,
   "metadata": {},
   "outputs": [],
   "source": [
    "# run this cell if you interrupt the kernel to close the open output file \n",
    "csvfile.close()"
   ]
  },
  {
   "cell_type": "code",
   "execution_count": null,
   "metadata": {},
   "outputs": [],
   "source": []
  }
 ],
 "metadata": {
  "kernelspec": {
   "display_name": "Python 3",
   "language": "python",
   "name": "python3"
  },
  "language_info": {
   "codemirror_mode": {
    "name": "ipython",
    "version": 3
   },
   "file_extension": ".py",
   "mimetype": "text/x-python",
   "name": "python",
   "nbconvert_exporter": "python",
   "pygments_lexer": "ipython3",
   "version": "3.5.6"
  }
 },
 "nbformat": 4,
 "nbformat_minor": 2
}
