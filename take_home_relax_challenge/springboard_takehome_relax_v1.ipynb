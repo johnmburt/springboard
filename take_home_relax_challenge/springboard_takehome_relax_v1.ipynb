{
 "cells": [
  {
   "cell_type": "markdown",
   "metadata": {},
   "source": [
    "# Springboard take home assignment: <br>Relax Inc Data Science challenge \n",
    "\n",
    "## John Burt\n",
    "\n",
    "Defining an \"adopted user\" as a user who has logged into the product on three separate days in at least one seven day period, identify which factors predict future user adoption.\n",
    "\n",
    "We suggest spending 1-2 hours on this, but you're welcome to spend more or less. Please send us a brief writeup of your findings (the more concise, the better no more than one page), along with any summary tables, graphs, code, or queries that can help us understand your approach. Please note any factors you considered or investigation you did, even if they did not pan out. Feel free to identify any further research or data you think would be valuable.\n",
    "\n",
    "The data is available as two attached CSV files:\n",
    "\n",
    "\n",
    "- takehome_user_engagement.csv: A user table ( \"takehome_users\" ) with data on 12,000 users who signed up for the product in the last two years.\n",
    "\n",
    "\n",
    "- takehome_users.csv: A usage summary table ( \"takehome_user_engagement\" ) that has a row for each day that a user logged into the product.\n",
    "\n",
    "## My approach:\n",
    "\n",
    "- Load the data.\n",
    "- Transform feature columns to numeric (category -> 1 hot, etc).\n",
    "- Generate the engaged label column\n",
    "- Train an XGBoost classifier to predict adoption.\n",
    "- Cross-validate evaluate model.\n",
    "- Display feature importances.\n",
    "- Analyze results"
   ]
  },
  {
   "cell_type": "code",
   "execution_count": 104,
   "metadata": {},
   "outputs": [
    {
     "data": {
      "text/html": [
       "<script>\n",
       "  function code_toggle() {\n",
       "    if (code_shown){\n",
       "      $('div.input').hide('500');\n",
       "      $('#toggleButton').val('Show Code')\n",
       "    } else {\n",
       "      $('div.input').show('500');\n",
       "      $('#toggleButton').val('Hide Code')\n",
       "    }\n",
       "    code_shown = !code_shown\n",
       "  }\n",
       "\n",
       "  $( document ).ready(function(){\n",
       "    code_shown=false;\n",
       "    $('div.input').hide()\n",
       "  });\n",
       "</script>\n",
       "<form action=\"javascript:code_toggle()\"><input type=\"submit\" id=\"toggleButton\" value=\"Show Code\"></form>"
      ],
      "text/plain": [
       "<IPython.core.display.HTML object>"
      ]
     },
     "execution_count": 104,
     "metadata": {},
     "output_type": "execute_result"
    }
   ],
   "source": [
    "from IPython.display import HTML\n",
    "\n",
    "HTML('''<script>\n",
    "  function code_toggle() {\n",
    "    if (code_shown){\n",
    "      $('div.input').hide('500');\n",
    "      $('#toggleButton').val('Show Code')\n",
    "    } else {\n",
    "      $('div.input').show('500');\n",
    "      $('#toggleButton').val('Hide Code')\n",
    "    }\n",
    "    code_shown = !code_shown\n",
    "  }\n",
    "\n",
    "  $( document ).ready(function(){\n",
    "    code_shown=false;\n",
    "    $('div.input').hide()\n",
    "  });\n",
    "</script>\n",
    "<form action=\"javascript:code_toggle()\"><input type=\"submit\" id=\"toggleButton\" value=\"Show Code\"></form>''')"
   ]
  },
  {
   "cell_type": "code",
   "execution_count": 1,
   "metadata": {},
   "outputs": [],
   "source": [
    "# remove warnings\n",
    "import warnings\n",
    "warnings.filterwarnings('ignore')\n",
    "\n",
    "%matplotlib inline\n",
    "import pandas as pd\n",
    "pd.options.display.max_columns = 100\n",
    "pd.options.display.max_rows = 100\n",
    "from matplotlib import pyplot as plt\n",
    "import matplotlib\n",
    "matplotlib.style.use('ggplot')\n",
    "import numpy as np\n"
   ]
  },
  {
   "cell_type": "markdown",
   "metadata": {},
   "source": [
    "### Load and look at the data"
   ]
  },
  {
   "cell_type": "markdown",
   "metadata": {},
   "source": [
    "### Engagement table:"
   ]
  },
  {
   "cell_type": "code",
   "execution_count": 56,
   "metadata": {},
   "outputs": [
    {
     "name": "stdout",
     "output_type": "stream",
     "text": [
      "(207917, 3)\n"
     ]
    },
    {
     "data": {
      "text/html": [
       "<div>\n",
       "<style scoped>\n",
       "    .dataframe tbody tr th:only-of-type {\n",
       "        vertical-align: middle;\n",
       "    }\n",
       "\n",
       "    .dataframe tbody tr th {\n",
       "        vertical-align: top;\n",
       "    }\n",
       "\n",
       "    .dataframe thead th {\n",
       "        text-align: right;\n",
       "    }\n",
       "</style>\n",
       "<table border=\"1\" class=\"dataframe\">\n",
       "  <thead>\n",
       "    <tr style=\"text-align: right;\">\n",
       "      <th></th>\n",
       "      <th>time_stamp</th>\n",
       "      <th>user_id</th>\n",
       "      <th>visited</th>\n",
       "    </tr>\n",
       "  </thead>\n",
       "  <tbody>\n",
       "    <tr>\n",
       "      <td>0</td>\n",
       "      <td>2014-04-22 03:53:30</td>\n",
       "      <td>1</td>\n",
       "      <td>1</td>\n",
       "    </tr>\n",
       "    <tr>\n",
       "      <td>1</td>\n",
       "      <td>2013-11-15 03:45:04</td>\n",
       "      <td>2</td>\n",
       "      <td>1</td>\n",
       "    </tr>\n",
       "    <tr>\n",
       "      <td>2</td>\n",
       "      <td>2013-11-29 03:45:04</td>\n",
       "      <td>2</td>\n",
       "      <td>1</td>\n",
       "    </tr>\n",
       "    <tr>\n",
       "      <td>3</td>\n",
       "      <td>2013-12-09 03:45:04</td>\n",
       "      <td>2</td>\n",
       "      <td>1</td>\n",
       "    </tr>\n",
       "    <tr>\n",
       "      <td>4</td>\n",
       "      <td>2013-12-25 03:45:04</td>\n",
       "      <td>2</td>\n",
       "      <td>1</td>\n",
       "    </tr>\n",
       "  </tbody>\n",
       "</table>\n",
       "</div>"
      ],
      "text/plain": [
       "            time_stamp  user_id  visited\n",
       "0  2014-04-22 03:53:30        1        1\n",
       "1  2013-11-15 03:45:04        2        1\n",
       "2  2013-11-29 03:45:04        2        1\n",
       "3  2013-12-09 03:45:04        2        1\n",
       "4  2013-12-25 03:45:04        2        1"
      ]
     },
     "execution_count": 56,
     "metadata": {},
     "output_type": "execute_result"
    }
   ],
   "source": [
    "eng = pd.read_csv('takehome_user_engagement.csv') \n",
    "\n",
    "print(eng.shape)\n",
    "eng.head()"
   ]
  },
  {
   "cell_type": "markdown",
   "metadata": {},
   "source": [
    "### Users table:"
   ]
  },
  {
   "cell_type": "code",
   "execution_count": 57,
   "metadata": {},
   "outputs": [
    {
     "name": "stdout",
     "output_type": "stream",
     "text": [
      "(12000, 10)\n"
     ]
    },
    {
     "data": {
      "text/html": [
       "<div>\n",
       "<style scoped>\n",
       "    .dataframe tbody tr th:only-of-type {\n",
       "        vertical-align: middle;\n",
       "    }\n",
       "\n",
       "    .dataframe tbody tr th {\n",
       "        vertical-align: top;\n",
       "    }\n",
       "\n",
       "    .dataframe thead th {\n",
       "        text-align: right;\n",
       "    }\n",
       "</style>\n",
       "<table border=\"1\" class=\"dataframe\">\n",
       "  <thead>\n",
       "    <tr style=\"text-align: right;\">\n",
       "      <th></th>\n",
       "      <th>object_id</th>\n",
       "      <th>creation_time</th>\n",
       "      <th>name</th>\n",
       "      <th>email</th>\n",
       "      <th>creation_source</th>\n",
       "      <th>last_session_creation_time</th>\n",
       "      <th>opted_in_to_mailing_list</th>\n",
       "      <th>enabled_for_marketing_drip</th>\n",
       "      <th>org_id</th>\n",
       "      <th>invited_by_user_id</th>\n",
       "    </tr>\n",
       "  </thead>\n",
       "  <tbody>\n",
       "    <tr>\n",
       "      <td>0</td>\n",
       "      <td>1</td>\n",
       "      <td>2014-04-22 03:53:30</td>\n",
       "      <td>Clausen August</td>\n",
       "      <td>AugustCClausen@yahoo.com</td>\n",
       "      <td>GUEST_INVITE</td>\n",
       "      <td>1.398139e+09</td>\n",
       "      <td>1</td>\n",
       "      <td>0</td>\n",
       "      <td>11</td>\n",
       "      <td>10803.0</td>\n",
       "    </tr>\n",
       "    <tr>\n",
       "      <td>1</td>\n",
       "      <td>2</td>\n",
       "      <td>2013-11-15 03:45:04</td>\n",
       "      <td>Poole Matthew</td>\n",
       "      <td>MatthewPoole@gustr.com</td>\n",
       "      <td>ORG_INVITE</td>\n",
       "      <td>1.396238e+09</td>\n",
       "      <td>0</td>\n",
       "      <td>0</td>\n",
       "      <td>1</td>\n",
       "      <td>316.0</td>\n",
       "    </tr>\n",
       "    <tr>\n",
       "      <td>2</td>\n",
       "      <td>3</td>\n",
       "      <td>2013-03-19 23:14:52</td>\n",
       "      <td>Bottrill Mitchell</td>\n",
       "      <td>MitchellBottrill@gustr.com</td>\n",
       "      <td>ORG_INVITE</td>\n",
       "      <td>1.363735e+09</td>\n",
       "      <td>0</td>\n",
       "      <td>0</td>\n",
       "      <td>94</td>\n",
       "      <td>1525.0</td>\n",
       "    </tr>\n",
       "    <tr>\n",
       "      <td>3</td>\n",
       "      <td>4</td>\n",
       "      <td>2013-05-21 08:09:28</td>\n",
       "      <td>Clausen Nicklas</td>\n",
       "      <td>NicklasSClausen@yahoo.com</td>\n",
       "      <td>GUEST_INVITE</td>\n",
       "      <td>1.369210e+09</td>\n",
       "      <td>0</td>\n",
       "      <td>0</td>\n",
       "      <td>1</td>\n",
       "      <td>5151.0</td>\n",
       "    </tr>\n",
       "    <tr>\n",
       "      <td>4</td>\n",
       "      <td>5</td>\n",
       "      <td>2013-01-17 10:14:20</td>\n",
       "      <td>Raw Grace</td>\n",
       "      <td>GraceRaw@yahoo.com</td>\n",
       "      <td>GUEST_INVITE</td>\n",
       "      <td>1.358850e+09</td>\n",
       "      <td>0</td>\n",
       "      <td>0</td>\n",
       "      <td>193</td>\n",
       "      <td>5240.0</td>\n",
       "    </tr>\n",
       "  </tbody>\n",
       "</table>\n",
       "</div>"
      ],
      "text/plain": [
       "   object_id        creation_time               name  \\\n",
       "0          1  2014-04-22 03:53:30     Clausen August   \n",
       "1          2  2013-11-15 03:45:04      Poole Matthew   \n",
       "2          3  2013-03-19 23:14:52  Bottrill Mitchell   \n",
       "3          4  2013-05-21 08:09:28    Clausen Nicklas   \n",
       "4          5  2013-01-17 10:14:20          Raw Grace   \n",
       "\n",
       "                        email creation_source  last_session_creation_time  \\\n",
       "0    AugustCClausen@yahoo.com    GUEST_INVITE                1.398139e+09   \n",
       "1      MatthewPoole@gustr.com      ORG_INVITE                1.396238e+09   \n",
       "2  MitchellBottrill@gustr.com      ORG_INVITE                1.363735e+09   \n",
       "3   NicklasSClausen@yahoo.com    GUEST_INVITE                1.369210e+09   \n",
       "4          GraceRaw@yahoo.com    GUEST_INVITE                1.358850e+09   \n",
       "\n",
       "   opted_in_to_mailing_list  enabled_for_marketing_drip  org_id  \\\n",
       "0                         1                           0      11   \n",
       "1                         0                           0       1   \n",
       "2                         0                           0      94   \n",
       "3                         0                           0       1   \n",
       "4                         0                           0     193   \n",
       "\n",
       "   invited_by_user_id  \n",
       "0             10803.0  \n",
       "1               316.0  \n",
       "2              1525.0  \n",
       "3              5151.0  \n",
       "4              5240.0  "
      ]
     },
     "execution_count": 57,
     "metadata": {},
     "output_type": "execute_result"
    }
   ],
   "source": [
    "usr = pd.read_csv('takehome_users.csv', encoding = \"ISO-8859-1\")\n",
    "\n",
    "print(usr.shape)\n",
    "usr.head()"
   ]
  },
  {
   "cell_type": "markdown",
   "metadata": {},
   "source": [
    "### Data prep and feature engineering"
   ]
  },
  {
   "cell_type": "code",
   "execution_count": 58,
   "metadata": {},
   "outputs": [
    {
     "name": "stdout",
     "output_type": "stream",
     "text": [
      "features shape: (12000, 3)\n",
      "features shape: (12000, 1187)\n",
      "features shape: (12000, 1192)\n",
      "features shape: (12000, 1609)\n",
      "features shape: (12000, 4173)\n"
     ]
    }
   ],
   "source": [
    "# convert time strings to datetime\n",
    "eng['time'] = pd.to_datetime(eng['time_stamp'])\n",
    "usr['ctime'] = pd.to_datetime(usr['creation_time'])\n",
    "\n",
    "# create feature df\n",
    "# I'll add to this features I've created from the user data\n",
    "features = usr[ ['object_id',\n",
    "                 'opted_in_to_mailing_list', \n",
    "                 'enabled_for_marketing_drip'] ]\n",
    "print('features shape:',features.shape)\n",
    "\n",
    "# parse email to get domain, then one-hot and add to features\n",
    "domains = [str.split(s.split('@')[1],'.')[0] for s in usr['email']]\n",
    "features = pd.concat([features, pd.get_dummies(domains, prefix='ed')], axis=1)\n",
    "print('features shape:',features.shape)\n",
    "\n",
    "# one-hot creation source\n",
    "features = pd.concat([features, \n",
    "                      pd.get_dummies(usr['creation_source'], prefix='cs')], axis=1)\n",
    "print('features shape:',features.shape)\n",
    "\n",
    "# one-hot org id\n",
    "features = pd.concat([features, \n",
    "                      pd.get_dummies(usr['org_id'], prefix='oi')], axis=1)\n",
    "print('features shape:',features.shape)\n",
    "\n",
    "# one-hot invited by\n",
    "features = pd.concat([features, \n",
    "                      pd.get_dummies(usr['invited_by_user_id'], prefix='ui')], axis=1)\n",
    "print('features shape:',features.shape)\n"
   ]
  },
  {
   "cell_type": "markdown",
   "metadata": {},
   "source": [
    "### Function to test for adopted users\n",
    "Defining an \"adopted user\" as a user who has logged into the product on three separate days in at least one seven day period.\n",
    "\n",
    "Note: This function takes as input a user's engagement dates converted into julian day  "
   ]
  },
  {
   "cell_type": "code",
   "execution_count": 88,
   "metadata": {},
   "outputs": [],
   "source": [
    "def is_engaged(days):\n",
    "    \"\"\"Test if this user is engaged,\n",
    "    Uses julian days\"\"\"\n",
    "    for i in range(len(days)-2):\n",
    "        if days[i+1]>days[i]:\n",
    "            if ((days[i+1]-days[i] <= 7) &\n",
    "               (days[i+2]-days[i] <= 7)):\n",
    "                return 1\n",
    "    return 0\n",
    "\n",
    "# # run some tests:\n",
    "# print(is_engaged([1,1,1,3,4,6,10])) # True\n",
    "# print(is_engaged([1,10,30,31,31,31,35])) # True\n",
    "# print(is_engaged([1,12,23,23,23,45,53])) # False\n",
    "# print(is_engaged([1,2,34,35,50,57])) # False"
   ]
  },
  {
   "cell_type": "markdown",
   "metadata": {},
   "source": [
    "### Create output label column \"engaged\"\n",
    "\n",
    "- 1 = user engaged\n",
    "- 0 = user not engaged"
   ]
  },
  {
   "cell_type": "code",
   "execution_count": 93,
   "metadata": {},
   "outputs": [
    {
     "name": "stdout",
     "output_type": "stream",
     "text": [
      "#engaged = 1656  out of 12000\n"
     ]
    }
   ],
   "source": [
    "from datetime import datetime\n",
    "\n",
    "# create day col\n",
    "eng['day'] = eng['time'].apply(lambda dt : dt.timetuple().tm_yday + dt.year*365)\n",
    "\n",
    "# make sure engagement data is sorted ascending by time\n",
    "eng.sort_values(by='time', inplace=True)\n",
    "\n",
    "# iterate through users, record engagement\n",
    "usr['engaged'] = [is_engaged(eng['day'][eng['user_id']==id].values) \n",
    "                  for id in usr['object_id']]\n",
    "\n",
    "print('#engaged =',usr['engaged'].sum(), ' out of',usr.shape[0])\n"
   ]
  },
  {
   "cell_type": "markdown",
   "metadata": {},
   "source": [
    "### Cross-validate the XGBoost model"
   ]
  },
  {
   "cell_type": "code",
   "execution_count": 100,
   "metadata": {},
   "outputs": [
    {
     "name": "stdout",
     "output_type": "stream",
     "text": [
      "Cross-validate model:\n",
      "CV scores =  ['0.86,', '0.86,', '0.86,', '0.86,', '0.14,']\n",
      "mean score = 0.72\n"
     ]
    }
   ],
   "source": [
    "from xgboost import XGBClassifier\n",
    "from sklearn.model_selection import cross_val_score\n",
    "\n",
    "# create model instance\n",
    "clf = XGBClassifier()\n",
    "\n",
    "# get cross val score\n",
    "scores = cross_val_score(clf, features, usr['engaged'], cv=5)\n",
    "\n",
    "print('Cross-validate model:')\n",
    "print('CV scores = ', ['%1.2f,'%(s) for s in scores])\n",
    "print('mean score = %1.2f'%(np.mean(scores)))\n"
   ]
  },
  {
   "cell_type": "markdown",
   "metadata": {},
   "source": [
    "### Re-train the model to all data"
   ]
  },
  {
   "cell_type": "code",
   "execution_count": 102,
   "metadata": {},
   "outputs": [],
   "source": [
    "# re-fit to entire dataset\n",
    "clf.fit(features, usr['engaged']);"
   ]
  },
  {
   "cell_type": "markdown",
   "metadata": {},
   "source": [
    "### Print and plot the most important features"
   ]
  },
  {
   "cell_type": "code",
   "execution_count": 116,
   "metadata": {},
   "outputs": [
    {
     "name": "stdout",
     "output_type": "stream",
     "text": [
      "Feature ranking:\n",
      "1. (0.055) cs_PERSONAL_PROJECTS\n",
      "2. (0.028) oi_217\n",
      "3. (0.025) oi_0\n",
      "4. (0.025) oi_387\n",
      "5. (0.025) oi_3\n",
      "6. (0.022) oi_248\n",
      "7. (0.022) ed_hotmail\n",
      "8. (0.021) oi_62\n",
      "9. (0.020) oi_82\n",
      "10. (0.019) oi_1\n",
      "11. (0.019) oi_392\n",
      "12. (0.019) cs_GUEST_INVITE\n",
      "13. (0.018) oi_270\n",
      "14. (0.018) oi_415\n",
      "15. (0.018) oi_13\n",
      "16. (0.018) oi_282\n",
      "17. (0.018) oi_117\n",
      "18. (0.017) oi_235\n",
      "19. (0.017) ed_yahoo\n",
      "20. (0.016) oi_273\n"
     ]
    },
    {
     "data": {
      "image/png": "[encoded data removed]",
      "text/plain": [
       "<Figure size 720x360 with 1 Axes>"
      ]
     },
     "metadata": {
      "needs_background": "light"
     },
     "output_type": "display_data"
    }
   ],
   "source": [
    "names = features.columns\n",
    "numimportant = 20\n",
    "\n",
    "importances = clf.feature_importances_\n",
    "indices = np.argsort(importances)[::-1]\n",
    "\n",
    "# Print the feature ranking\n",
    "print(\"Feature ranking:\")\n",
    "\n",
    "for f in range(numimportant):\n",
    "    print(\"%d. (%1.3f) %s\" % (\n",
    "        f + 1, \n",
    "        importances[indices[f]],\n",
    "        names[indices[f]]\n",
    "         ))\n",
    "\n",
    "# Plot the feature importances of the forest\n",
    "plt.figure(figsize=[10,5])\n",
    "plt.title(\"Feature importances\")\n",
    "plt.bar(range(numimportant), importances[indices[:numimportant]],\n",
    "       color=\"r\", align=\"center\")\n",
    "plt.xticks(range(numimportant), names[indices[:numimportant]], rotation=90)\n",
    "plt.xlim([-1, numimportant]);\n"
   ]
  },
  {
   "cell_type": "markdown",
   "metadata": {},
   "source": [
    "## Analysis\n",
    "\n",
    "#### Goal: identify which factors predict future user adoption\n",
    "\n",
    "- Looking at the top 20 important features, three categories were apparent:\n",
    "    - Organization ID (16/20): most of the top features were from this category.\n",
    "    - Creation source (2/20): PERSONAL_PROJECTS (\"invited to join another user's\n",
    "personal workspace\") was the best predictor of engagement.\n",
    "    - Email domain (2/20): engaged users most commonly used hotmail and yahoo domains.\n",
    "    \n",
    "    \n"
   ]
  },
  {
   "cell_type": "code",
   "execution_count": null,
   "metadata": {},
   "outputs": [],
   "source": []
  }
 ],
 "metadata": {
  "kernelspec": {
   "display_name": "Python 3",
   "language": "python",
   "name": "python3"
  },
  "language_info": {
   "codemirror_mode": {
    "name": "ipython",
    "version": 3
   },
   "file_extension": ".py",
   "mimetype": "text/x-python",
   "name": "python",
   "nbconvert_exporter": "python",
   "pygments_lexer": "ipython3",
   "version": "3.6.7"
  }
 },
 "nbformat": 4,
 "nbformat_minor": 2
}
